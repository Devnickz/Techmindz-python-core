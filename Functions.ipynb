{
 "cells": [
  {
   "cell_type": "code",
   "execution_count": 60,
   "id": "d0de85b1",
   "metadata": {
    "scrolled": true
   },
   "outputs": [
    {
     "name": "stdout",
     "output_type": "stream",
     "text": [
      "enter the name: sreeja\n",
      "Hello sreeja, thanks for the email.We will get back to you shortly!!\n"
     ]
    }
   ],
   "source": [
    "msg = \"thanks for the email.We will get back to you shortly!!\"\n",
    "def email_reply(name):\n",
    "    print(\"Hello\", name + ', ' + msg)\n",
    "\n",
    "name = input(\"enter the name: \")\n",
    "email_reply(name)"
   ]
  },
  {
   "cell_type": "code",
   "execution_count": 63,
   "id": "aa8ce416",
   "metadata": {},
   "outputs": [
    {
     "name": "stdout",
     "output_type": "stream",
     "text": [
      "(<function <lambda> at 0x107827880>, 'Sreeja, Thanks!!')\n"
     ]
    }
   ],
   "source": [
    "a = (lambda name,msg : \"Hello\", name + ', ' + msg)\n",
    "\n",
    "name =\"Sreeja\"\n",
    "msg = \"Thanks!!\"\n",
    "print(a)"
   ]
  },
  {
   "cell_type": "markdown",
   "id": "0ce2054c",
   "metadata": {},
   "source": [
    "### Python Arbitrary Arguments"
   ]
  },
  {
   "cell_type": "code",
   "execution_count": 18,
   "id": "bad2f784",
   "metadata": {
    "scrolled": true
   },
   "outputs": [
    {
     "name": "stdout",
     "output_type": "stream",
     "text": [
      "Hi Monica, thanks for the email.We will get back to you shortly!!\n",
      "Hi Luke, thanks for the email.We will get back to you shortly!!\n",
      "Hi Steve, thanks for the email.We will get back to you shortly!!\n",
      "Hi John, thanks for the email.We will get back to you shortly!!\n"
     ]
    }
   ],
   "source": [
    "def email_reply(*names,msg=\"thanks for the email.We will get back to you shortly!!\"):\n",
    "\n",
    "    # names is a tuple with arguments\n",
    "    for name in names:\n",
    "        print(\"Hi\", name +', '+ msg)\n",
    "\n",
    "\n",
    "email_reply(\"Monica\", \"Luke\", \"Steve\", \"John\")\n",
    " "
   ]
  },
  {
   "cell_type": "markdown",
   "id": "4651cd57",
   "metadata": {},
   "source": []
  },
  {
   "cell_type": "code",
   "execution_count": null,
   "id": "2ec6cd2b",
   "metadata": {},
   "outputs": [],
   "source": []
  },
  {
   "cell_type": "markdown",
   "id": "9065d87a",
   "metadata": {},
   "source": [
    "### Insert values from the text file to a function "
   ]
  },
  {
   "cell_type": "code",
   "execution_count": 45,
   "id": "4f134a08",
   "metadata": {
    "scrolled": false
   },
   "outputs": [
    {
     "ename": "AttributeError",
     "evalue": "'list' object has no attribute 'to_txt'",
     "output_type": "error",
     "traceback": [
      "\u001b[0;31m---------------------------------------------------------------------------\u001b[0m",
      "\u001b[0;31mAttributeError\u001b[0m                            Traceback (most recent call last)",
      "Cell \u001b[0;32mIn [45], line 12\u001b[0m\n\u001b[1;32m     10\u001b[0m f \u001b[38;5;241m=\u001b[39m \u001b[38;5;28mopen\u001b[39m(\u001b[38;5;124m\"\u001b[39m\u001b[38;5;124mdemo.txt\u001b[39m\u001b[38;5;124m\"\u001b[39m,\u001b[38;5;124m\"\u001b[39m\u001b[38;5;124mr\u001b[39m\u001b[38;5;124m\"\u001b[39m)\n\u001b[1;32m     11\u001b[0m \u001b[38;5;28;01mfor\u001b[39;00m i \u001b[38;5;129;01min\u001b[39;00m f:\n\u001b[0;32m---> 12\u001b[0m     email_reply(i)\n",
      "Cell \u001b[0;32mIn [45], line 6\u001b[0m, in \u001b[0;36memail_reply\u001b[0;34m(msg, *names)\u001b[0m\n\u001b[1;32m      4\u001b[0m d \u001b[38;5;241m=\u001b[39m (\u001b[38;5;124m\"\u001b[39m\u001b[38;5;124mHello \u001b[39m\u001b[38;5;124m\"\u001b[39m, name , \u001b[38;5;124m'\u001b[39m\u001b[38;5;124m, \u001b[39m\u001b[38;5;124m'\u001b[39m , msg)\n\u001b[1;32m      5\u001b[0m df\u001b[38;5;241m.\u001b[39mappend(d) \n\u001b[0;32m----> 6\u001b[0m \u001b[43mdf\u001b[49m\u001b[38;5;241;43m.\u001b[39;49m\u001b[43mto_txt\u001b[49m(\u001b[38;5;124m\"\u001b[39m\u001b[38;5;124mresult.txt\u001b[39m\u001b[38;5;124m\"\u001b[39m)\n",
      "\u001b[0;31mAttributeError\u001b[0m: 'list' object has no attribute 'to_txt'"
     ]
    }
   ],
   "source": [
    "data = []\n",
    "def email_reply(*names, msg=\"thanks for the email.We will get back to you shortly!!\"):\n",
    "    for name in names:\n",
    "        d = (\"Hello \", name , ', ' , msg)\n",
    "        df.append(d) \n",
    "        df.to_txt(\"result.txt\")\n",
    "     #   f.write(items)\n",
    "    #print(\"File written successfully\")\n",
    "        \n",
    "f = open(\"demo.txt\",\"r\")\n",
    "for i in f:\n",
    "    email_reply(i)\n"
   ]
  },
  {
   "cell_type": "code",
   "execution_count": 39,
   "id": "41d5d755",
   "metadata": {},
   "outputs": [
    {
     "name": "stdout",
     "output_type": "stream",
     "text": [
      "[('Hello ', 'John\\n', ', ', 'thanks for the email.We will get back to you shortly!!'), ('Hello ', 'joseph\\n', ', ', 'thanks for the email.We will get back to you shortly!!'), ('Hello ', 'alex\\n', ', ', 'thanks for the email.We will get back to you shortly!!'), ('Hello ', 'mike\\n', ', ', 'thanks for the email.We will get back to you shortly!!'), ('Hello ', 'michelle', ', ', 'thanks for the email.We will get back to you shortly!!')]\n"
     ]
    }
   ],
   "source": [
    "print(df)"
   ]
  },
  {
   "cell_type": "markdown",
   "id": "140b3a0b",
   "metadata": {},
   "source": [
    "### Global Variables"
   ]
  },
  {
   "cell_type": "code",
   "execution_count": 49,
   "id": "c57de796",
   "metadata": {
    "scrolled": true
   },
   "outputs": [
    {
     "name": "stdout",
     "output_type": "stream",
     "text": [
      "inside func: Thanks for the email.We will get back to you shortly!!\n",
      "outside func: Thanks for the email.We will get back to you shortly!!\n"
     ]
    }
   ],
   "source": [
    "a = \"Thanks for the email.We will get back to you shortly!!\"\n",
    "def show():\n",
    "    print (\"inside func:\",a)\n",
    "\n",
    "\n",
    "show()   \n",
    "print (\"outside func:\", a)"
   ]
  },
  {
   "cell_type": "markdown",
   "id": "cc78beaf",
   "metadata": {},
   "source": [
    "### Write a program with function including a file read globally"
   ]
  },
  {
   "cell_type": "code",
   "execution_count": null,
   "id": "7378f36f",
   "metadata": {},
   "outputs": [],
   "source": []
  },
  {
   "cell_type": "markdown",
   "id": "b8884455",
   "metadata": {},
   "source": [
    "### Variable scope and Return Values"
   ]
  },
  {
   "cell_type": "code",
   "execution_count": 52,
   "id": "135b3f9e",
   "metadata": {},
   "outputs": [
    {
     "name": "stdout",
     "output_type": "stream",
     "text": [
      "9\n"
     ]
    }
   ],
   "source": [
    "def sum(a,b):\n",
    "    sum = a+b\n",
    "    print(sum)\n",
    "\n",
    "    \n",
    "x = sum(4,5)\n",
    "print(x)"
   ]
  },
  {
   "cell_type": "code",
   "execution_count": 53,
   "id": "6e14e1f2",
   "metadata": {},
   "outputs": [
    {
     "name": "stdout",
     "output_type": "stream",
     "text": [
      "None\n"
     ]
    }
   ],
   "source": [
    "print(x)"
   ]
  },
  {
   "cell_type": "code",
   "execution_count": 59,
   "id": "0ea174ac",
   "metadata": {},
   "outputs": [
    {
     "name": "stdout",
     "output_type": "stream",
     "text": [
      "9\n"
     ]
    }
   ],
   "source": [
    "def sum (a,b):\n",
    "    sum = a+b\n",
    "    return(sum)\n",
    "    \n",
    "sum = sum(4,5)\n",
    "print(sum)"
   ]
  },
  {
   "cell_type": "code",
   "execution_count": 58,
   "id": "b0f221ff",
   "metadata": {},
   "outputs": [
    {
     "name": "stdout",
     "output_type": "stream",
     "text": [
      "9\n"
     ]
    }
   ],
   "source": [
    "print(sum)"
   ]
  },
  {
   "cell_type": "markdown",
   "id": "bca2d450",
   "metadata": {},
   "source": [
    "### Lambda Function"
   ]
  },
  {
   "cell_type": "code",
   "execution_count": 61,
   "id": "582645a9",
   "metadata": {
    "scrolled": true
   },
   "outputs": [
    {
     "name": "stdout",
     "output_type": "stream",
     "text": [
      "sum = 6\n"
     ]
    }
   ],
   "source": [
    "sum = (lambda x,y : x+y)\n",
    "\n",
    "x=2\n",
    "y=4\n",
    "z=x+y\n",
    "print (\"sum =\",z)"
   ]
  },
  {
   "cell_type": "code",
   "execution_count": 28,
   "id": "5397a4e1",
   "metadata": {},
   "outputs": [
    {
     "name": "stdout",
     "output_type": "stream",
     "text": [
      "33\n"
     ]
    }
   ],
   "source": [
    "def myfunc(n):\n",
    "  return lambda a : a * n\n",
    "\n",
    "\n",
    "triple = myfunc(3)\n",
    "\n",
    "print(triple(11))"
   ]
  },
  {
   "cell_type": "code",
   "execution_count": null,
   "id": "0a9d7d5d",
   "metadata": {},
   "outputs": [],
   "source": []
  }
 ],
 "metadata": {
  "kernelspec": {
   "display_name": "Python 3 (ipykernel)",
   "language": "python",
   "name": "python3"
  },
  "language_info": {
   "codemirror_mode": {
    "name": "ipython",
    "version": 3
   },
   "file_extension": ".py",
   "mimetype": "text/x-python",
   "name": "python",
   "nbconvert_exporter": "python",
   "pygments_lexer": "ipython3",
   "version": "3.10.7"
  }
 },
 "nbformat": 4,
 "nbformat_minor": 5
}

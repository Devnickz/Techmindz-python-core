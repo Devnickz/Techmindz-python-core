{
 "cells": [
  {
   "cell_type": "code",
   "execution_count": 6,
   "id": "b43b68ed",
   "metadata": {
    "scrolled": true
   },
   "outputs": [
    {
     "name": "stdout",
     "output_type": "stream",
     "text": [
      "2022-10-21 09:49:03.152662\n"
     ]
    }
   ],
   "source": [
    "from datetime import datetime\n",
    "date = datetime.now()\n",
    "print(date)\n"
   ]
  },
  {
   "cell_type": "code",
   "execution_count": 61,
   "id": "69ffd3d6",
   "metadata": {
    "scrolled": false
   },
   "outputs": [
    {
     "name": "stdout",
     "output_type": "stream",
     "text": [
      "year: 2022\n",
      "month: 10\n",
      "date: 20\n",
      "time: 09:56:25\n",
      "day: Thursday\n",
      "day_abb: Thu\n",
      "date time: 10/20/2022, 09:56:25\n"
     ]
    }
   ],
   "source": [
    "from datetime import datetime\n",
    "\n",
    "now = datetime.now() # current date and time\n",
    "\n",
    "year = now.strftime(\"%Y\")\n",
    "print(\"year:\", year)\n",
    "\n",
    "month = now.strftime(\"%m\")\n",
    "print(\"month:\", month)\n",
    "\n",
    "date = now.strftime(\"%d\")\n",
    "print(\"date:\", date)\n",
    "\n",
    "time = now.strftime(\"%H:%M:%S\")\n",
    "print(\"time:\", time)\n",
    "\n",
    "day = now.strftime(\"%A\")\n",
    "print(\"day:\", day)\n",
    "\n",
    "day_abb = now.strftime(\"%a\")\n",
    "print(\"day_abb:\", day_abb)\n",
    "\n",
    "date_time = now.strftime(\"%m/%d/%Y, %H:%M:%S\")\n",
    "print(\"date time:\", date_time)\n"
   ]
  },
  {
   "cell_type": "code",
   "execution_count": 8,
   "id": "d076cc1f",
   "metadata": {
    "scrolled": true
   },
   "outputs": [
    {
     "name": "stdout",
     "output_type": "stream",
     "text": [
      "year: 2022\n",
      "month: 10\n",
      "date: 20\n",
      "time: 05:16:35,AM\n",
      "day: Thursday\n",
      "day_abb: Thu\n",
      "date time: 10/20/2022, 05:16:35,AM,\n"
     ]
    }
   ],
   "source": [
    "ts = 1666223195\n",
    "date_time = datetime.fromtimestamp(ts) # current date and time\n",
    "year = date_time.strftime(\"%Y\")\n",
    "print(\"year:\", year)\n",
    "\n",
    "month = date_time.strftime(\"%m\")\n",
    "print(\"month:\", month)\n",
    "\n",
    "date = date_time.strftime(\"%d\")\n",
    "print(\"date:\", date)\n",
    "\n",
    "time = date_time.strftime(\"%I:%M:%S,%p\")\n",
    "print(\"time:\", time)\n",
    "\n",
    "day = date_time.strftime(\"%A\")\n",
    "print(\"day:\", day)\n",
    "\n",
    "day_abb = date_time.strftime(\"%a\")\n",
    "print(\"day_abb:\", day_abb)\n",
    "\n",
    "\n",
    "date_time = date_time.strftime(\"%m/%d/%Y, %I:%M:%S,%p,%Z\")\n",
    "print(\"date time:\", date_time)"
   ]
  },
  {
   "cell_type": "markdown",
   "id": "abf213f7",
   "metadata": {},
   "source": [
    "### Write as program to do activities on current time and any time stamp"
   ]
  },
  {
   "cell_type": "code",
   "execution_count": 10,
   "id": "b02c1719",
   "metadata": {},
   "outputs": [],
   "source": [
    "#### Time Zone, "
   ]
  },
  {
   "cell_type": "code",
   "execution_count": 11,
   "id": "f07fc98b",
   "metadata": {},
   "outputs": [
    {
     "name": "stdout",
     "output_type": "stream",
     "text": [
      "Collecting pytz\n",
      "  Downloading pytz-2022.5-py2.py3-none-any.whl (500 kB)\n",
      "\u001b[2K     \u001b[90m━━━━━━━━━━━━━━━━━━━━━━━━━━━━━━━━━━━━━━━\u001b[0m \u001b[32m500.7/500.7 kB\u001b[0m \u001b[31m2.8 MB/s\u001b[0m eta \u001b[36m0:00:00\u001b[0m00:01\u001b[0m00:01\u001b[0m\n",
      "\u001b[?25hInstalling collected packages: pytz\n",
      "Successfully installed pytz-2022.5\n",
      "\n",
      "\u001b[1m[\u001b[0m\u001b[34;49mnotice\u001b[0m\u001b[1;39;49m]\u001b[0m\u001b[39;49m A new release of pip available: \u001b[0m\u001b[31;49m22.2.2\u001b[0m\u001b[39;49m -> \u001b[0m\u001b[32;49m22.3\u001b[0m\n",
      "\u001b[1m[\u001b[0m\u001b[34;49mnotice\u001b[0m\u001b[1;39;49m]\u001b[0m\u001b[39;49m To update, run: \u001b[0m\u001b[32;49mpython3.10 -m pip install --upgrade pip\u001b[0m\n",
      "Note: you may need to restart the kernel to use updated packages.\n"
     ]
    }
   ],
   "source": [
    "pip install pytz"
   ]
  },
  {
   "cell_type": "code",
   "execution_count": 16,
   "id": "2cfb8854",
   "metadata": {},
   "outputs": [
    {
     "name": "stdout",
     "output_type": "stream",
     "text": [
      "2022-10-21 09:54:17.000973+05:30\n"
     ]
    }
   ],
   "source": [
    "from datetime import datetime\n",
    "import pytz\n",
    "date = datetime.now(pytz.timezone(\"Asia/Kolkata\"))\n",
    "print(date)\n"
   ]
  },
  {
   "cell_type": "code",
   "execution_count": 4,
   "id": "a51a4709",
   "metadata": {
    "scrolled": true
   },
   "outputs": [
    {
     "ename": "TypeError",
     "evalue": "hello_printer() takes 0 positional arguments but 1 was given",
     "output_type": "error",
     "traceback": [
      "\u001b[0;31m---------------------------------------------------------------------------\u001b[0m",
      "\u001b[0;31mTypeError\u001b[0m                                 Traceback (most recent call last)",
      "Cell \u001b[0;32mIn [4], line 3\u001b[0m\n\u001b[1;32m      1\u001b[0m \u001b[38;5;28;01mimport\u001b[39;00m \u001b[38;5;21;01mos\u001b[39;00m\n\u001b[1;32m      2\u001b[0m \u001b[38;5;28;01mimport\u001b[39;00m \u001b[38;5;21;01mmymodule\u001b[39;00m\n\u001b[0;32m----> 3\u001b[0m a \u001b[38;5;241m=\u001b[39m mymodule\u001b[38;5;241m.\u001b[39mhello_printer(\u001b[38;5;124m\"\u001b[39m\u001b[38;5;124mSreeja\u001b[39m\u001b[38;5;124m\"\u001b[39m)\n\u001b[1;32m      4\u001b[0m \u001b[38;5;28mprint\u001b[39m(a)\n",
      "\u001b[0;31mTypeError\u001b[0m: hello_printer() takes 0 positional arguments but 1 was given"
     ]
    }
   ],
   "source": [
    "import os\n",
    "import mymodule\n",
    "a = mymodule.hello_printer(\"Sreeja\")\n",
    "print(a)"
   ]
  },
  {
   "cell_type": "code",
   "execution_count": null,
   "id": "1cc0657a",
   "metadata": {},
   "outputs": [],
   "source": [
    "### Write a code with a locally created module having datetime imported in the local module\n"
   ]
  }
 ],
 "metadata": {
  "kernelspec": {
   "display_name": "Python 3 (ipykernel)",
   "language": "python",
   "name": "python3"
  },
  "language_info": {
   "codemirror_mode": {
    "name": "ipython",
    "version": 3
   },
   "file_extension": ".py",
   "mimetype": "text/x-python",
   "name": "python",
   "nbconvert_exporter": "python",
   "pygments_lexer": "ipython3",
   "version": "3.10.7"
  }
 },
 "nbformat": 4,
 "nbformat_minor": 5
}

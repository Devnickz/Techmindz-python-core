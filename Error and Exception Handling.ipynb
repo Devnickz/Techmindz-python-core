{
 "cells": [
  {
   "cell_type": "code",
   "execution_count": 12,
   "id": "b1230426",
   "metadata": {
    "scrolled": true
   },
   "outputs": [
    {
     "name": "stdout",
     "output_type": "stream",
     "text": [
      "enter the 1st number:3\n",
      "enter the 2nd number:0\n"
     ]
    },
    {
     "ename": "ZeroDivisionError",
     "evalue": "division by zero",
     "output_type": "error",
     "traceback": [
      "\u001b[0;31m---------------------------------------------------------------------------\u001b[0m",
      "\u001b[0;31mZeroDivisionError\u001b[0m                         Traceback (most recent call last)",
      "Cell \u001b[0;32mIn [12], line 4\u001b[0m\n\u001b[1;32m      1\u001b[0m a \u001b[38;5;241m=\u001b[39m \u001b[38;5;28mint\u001b[39m(\u001b[38;5;28minput\u001b[39m(\u001b[38;5;124m\"\u001b[39m\u001b[38;5;124menter the 1st number:\u001b[39m\u001b[38;5;124m\"\u001b[39m))\n\u001b[1;32m      2\u001b[0m b \u001b[38;5;241m=\u001b[39m \u001b[38;5;28mint\u001b[39m(\u001b[38;5;28minput\u001b[39m(\u001b[38;5;124m\"\u001b[39m\u001b[38;5;124menter the 2nd number:\u001b[39m\u001b[38;5;124m\"\u001b[39m))\n\u001b[0;32m----> 4\u001b[0m \u001b[38;5;28mprint\u001b[39m(a\u001b[38;5;241m/\u001b[39mb)\n\u001b[1;32m      6\u001b[0m \u001b[38;5;28mprint\u001b[39m(\u001b[38;5;124m\"\u001b[39m\u001b[38;5;124mThanks for visiting\u001b[39m\u001b[38;5;124m\"\u001b[39m)\n",
      "\u001b[0;31mZeroDivisionError\u001b[0m: division by zero"
     ]
    }
   ],
   "source": [
    "a = int(input(\"enter the 1st number:\"))\n",
    "b = int(input(\"enter the 2nd number:\"))\n",
    "\n",
    "print(a/b)\n",
    "\n",
    "print(\"Thanks for visiting\")"
   ]
  },
  {
   "cell_type": "code",
   "execution_count": 2,
   "id": "79abbd85",
   "metadata": {
    "scrolled": true
   },
   "outputs": [
    {
     "name": "stdout",
     "output_type": "stream",
     "text": [
      "enter the 1st number:5\n",
      "enter the 2nd number:0\n",
      "Try again using valid numbers:  division by zero\n",
      "Thanks for visiting\n"
     ]
    }
   ],
   "source": [
    "a = int(input(\"enter the 1st number:\"))\n",
    "b = int(input(\"enter the 2nd number:\"))\n",
    "\n",
    "try:\n",
    "    print(a/b)\n",
    "except Exception as a:\n",
    "    print(\"Try again using valid numbers: \", a)\n",
    "\n",
    "print(\"Thanks for visiting\")"
   ]
  },
  {
   "cell_type": "code",
   "execution_count": 5,
   "id": "65485b1a",
   "metadata": {},
   "outputs": [
    {
     "name": "stdout",
     "output_type": "stream",
     "text": [
      "enter the 1st number:5\n",
      "enter the 2nd number:7\n",
      "Process starts\n",
      "0.7142857142857143\n",
      "Thanks for visiting\n"
     ]
    }
   ],
   "source": [
    "a = int(input(\"enter the 1st number:\"))\n",
    "b = int(input(\"enter the 2nd number:\"))\n",
    "\n",
    "try:\n",
    "    print(\"Process starts\")\n",
    "    print(a/b)\n",
    "except Exception as e:\n",
    "    print(\"You can't divide a number by zero, Try again using valid numbers\", e)\n",
    "    print(\"process end\")\n",
    "print(\"Thanks for visiting\")"
   ]
  },
  {
   "cell_type": "code",
   "execution_count": 6,
   "id": "d4e1f997",
   "metadata": {
    "scrolled": true
   },
   "outputs": [
    {
     "name": "stdout",
     "output_type": "stream",
     "text": [
      "enter the 1st number:5\n",
      "enter the 2nd number:7\n",
      "Process starts\n",
      "0.7142857142857143\n",
      "Process ends\n",
      "Thanks for visiting\n"
     ]
    }
   ],
   "source": [
    "a = int(input(\"enter the 1st number:\"))\n",
    "b = int(input(\"enter the 2nd number:\"))\n",
    "\n",
    "try:\n",
    "    print(\"Process starts\")\n",
    "    print(a/b)\n",
    "except Exception:\n",
    "    print(\"You can't divide a number by zero, Try again using valid numbers\")\n",
    "\n",
    "finally:\n",
    "        print(\"Process ends\")\n",
    "\n",
    "print(\"Thanks for visiting\")"
   ]
  },
  {
   "cell_type": "markdown",
   "id": "c4a873aa",
   "metadata": {},
   "source": [
    "### Multiple Error Handling"
   ]
  },
  {
   "cell_type": "code",
   "execution_count": 51,
   "id": "4d1bdec0",
   "metadata": {},
   "outputs": [
    {
     "name": "stdout",
     "output_type": "stream",
     "text": [
      "enter the 1st number:4\n",
      "enter the 2nd number:0\n",
      "Process Start\n",
      "Try again using valid numbers\n",
      "Process ends\n"
     ]
    }
   ],
   "source": [
    "a = int(input(\"enter the 1st number:\"))\n",
    "b = int(input(\"enter the 2nd number:\"))\n",
    "\n",
    "try:\n",
    "    print(\"Process Start\")\n",
    "    print(a/b)\n",
    "    k = int(input(\"enter the 3rd number:\"))\n",
    "\n",
    "except Exception:\n",
    "    print(\"Try again using valid numbers\")\n",
    "    \n",
    "finally:\n",
    "    print(\"Process ends\")\n",
    "\n"
   ]
  },
  {
   "cell_type": "code",
   "execution_count": 48,
   "id": "58cc53e4",
   "metadata": {},
   "outputs": [
    {
     "name": "stdout",
     "output_type": "stream",
     "text": [
      "enter the 3rd number:t\n"
     ]
    },
    {
     "ename": "ValueError",
     "evalue": "invalid literal for int() with base 10: 't'",
     "output_type": "error",
     "traceback": [
      "\u001b[0;31m---------------------------------------------------------------------------\u001b[0m",
      "\u001b[0;31mValueError\u001b[0m                                Traceback (most recent call last)",
      "Cell \u001b[0;32mIn [48], line 1\u001b[0m\n\u001b[0;32m----> 1\u001b[0m k \u001b[38;5;241m=\u001b[39m \u001b[38;5;28mint\u001b[39m(\u001b[38;5;28minput\u001b[39m(\u001b[38;5;124m\"\u001b[39m\u001b[38;5;124menter the 3rd number:\u001b[39m\u001b[38;5;124m\"\u001b[39m))\n\u001b[1;32m      3\u001b[0m \u001b[38;5;28mprint\u001b[39m(\u001b[38;5;124m\"\u001b[39m\u001b[38;5;124mthanks!1\u001b[39m\u001b[38;5;124m\"\u001b[39m)\n",
      "\u001b[0;31mValueError\u001b[0m: invalid literal for int() with base 10: 't'"
     ]
    }
   ],
   "source": [
    "k = int(input(\"enter the 3rd number:\"))\n",
    "\n",
    "print(\"thanks!1\")"
   ]
  },
  {
   "cell_type": "code",
   "execution_count": 52,
   "id": "45f41755",
   "metadata": {
    "scrolled": true
   },
   "outputs": [
    {
     "name": "stdout",
     "output_type": "stream",
     "text": [
      "enter the 1st number:4\n",
      "enter the 2nd number:3\n",
      "Process starts\n",
      "1.3333333333333333\n",
      "enter the 3rd number:t\n",
      "wrong input, enter a valid number\n",
      "Process ends\n"
     ]
    }
   ],
   "source": [
    "a = int(input(\"enter the 1st number:\"))\n",
    "b = int(input(\"enter the 2nd number:\"))\n",
    "\n",
    "\n",
    "try:\n",
    "    print(\"Process starts\")\n",
    "    print(a/b)\n",
    "    k = (int(input(\"enter the 3rd number:\")))\n",
    "\n",
    "except ZeroDivisionError:\n",
    "    print(\"You can't divide a number by zero, Try again using valid numbers\")\n",
    "\n",
    "except ValueError:\n",
    "    print(\"wrong input, enter a valid number\")\n",
    "\n",
    "\n",
    "finally:\n",
    "    print(\"Process ends\")\n"
   ]
  },
  {
   "cell_type": "code",
   "execution_count": 53,
   "id": "3cd9b241",
   "metadata": {
    "scrolled": true
   },
   "outputs": [
    {
     "name": "stdout",
     "output_type": "stream",
     "text": [
      "enter the 1st number:3\n",
      "enter the 2nd number:d\n",
      "wrong input, enter a valid number\n"
     ]
    }
   ],
   "source": [
    "try:\n",
    "    a = int(input(\"enter the 1st number:\"))\n",
    "    b = int(input(\"enter the 2nd number:\"))\n",
    "\n",
    "except ValueError:\n",
    "        print(\"wrong input, enter a valid number\")\n",
    "else:\n",
    "    try:\n",
    "        print(\"Process starts\")\n",
    "        print(a/b)\n",
    "    except ZeroDivisionError:\n",
    "        print(\"You can't divide a number by zero, Try again using valid numbers\")\n",
    "\n",
    "    finally:\n",
    "        print(\"Process ends\")\n",
    "\n"
   ]
  },
  {
   "cell_type": "code",
   "execution_count": null,
   "id": "3430e5cb",
   "metadata": {},
   "outputs": [],
   "source": []
  },
  {
   "cell_type": "code",
   "execution_count": null,
   "id": "74913445",
   "metadata": {},
   "outputs": [],
   "source": []
  }
 ],
 "metadata": {
  "kernelspec": {
   "display_name": "Python 3 (ipykernel)",
   "language": "python",
   "name": "python3"
  },
  "language_info": {
   "codemirror_mode": {
    "name": "ipython",
    "version": 3
   },
   "file_extension": ".py",
   "mimetype": "text/x-python",
   "name": "python",
   "nbconvert_exporter": "python",
   "pygments_lexer": "ipython3",
   "version": "3.10.7"
  }
 },
 "nbformat": 4,
 "nbformat_minor": 5
}

{
 "cells": [
  {
   "cell_type": "markdown",
   "id": "0df9c120",
   "metadata": {},
   "source": [
    "## List\n"
   ]
  },
  {
   "cell_type": "code",
   "execution_count": 109,
   "id": "dc02a162",
   "metadata": {
    "scrolled": true
   },
   "outputs": [
    {
     "name": "stdout",
     "output_type": "stream",
     "text": [
      "['john', 'christina', 'alex', 'ann', 'michelle', 'chris', 'ben', 'will']\n"
     ]
    }
   ],
   "source": [
    "name = [\"john\",\"christina\",\"alex\",\"ann\",\"michelle\",\"chris\",\"ben\",\"will\"]\n",
    "print(name)"
   ]
  },
  {
   "cell_type": "markdown",
   "id": "6b94703b",
   "metadata": {},
   "source": [
    "### List Length"
   ]
  },
  {
   "cell_type": "code",
   "execution_count": 18,
   "id": "8adf08f6",
   "metadata": {},
   "outputs": [
    {
     "name": "stdout",
     "output_type": "stream",
     "text": [
      "8\n"
     ]
    }
   ],
   "source": [
    "print(len(name))"
   ]
  },
  {
   "cell_type": "markdown",
   "id": "dc41c8c0",
   "metadata": {},
   "source": [
    "### Index concept"
   ]
  },
  {
   "cell_type": "code",
   "execution_count": 19,
   "id": "2ff4bbbe",
   "metadata": {
    "scrolled": true
   },
   "outputs": [
    {
     "name": "stdout",
     "output_type": "stream",
     "text": [
      "John\n",
      "Christina\n",
      "Alex\n",
      "Ann\n"
     ]
    }
   ],
   "source": [
    "print (name[0])\n",
    "print (name[1])\n",
    "print (name[2])\n",
    "print (name[3])"
   ]
  },
  {
   "cell_type": "code",
   "execution_count": 20,
   "id": "fb16be29",
   "metadata": {},
   "outputs": [
    {
     "name": "stdout",
     "output_type": "stream",
     "text": [
      "Will\n",
      "Ben\n",
      "Chris\n",
      "Michelle\n"
     ]
    }
   ],
   "source": [
    "print (name[-1])\n",
    "print (name[-2])\n",
    "print (name[-3])\n",
    "print (name[-4])"
   ]
  },
  {
   "cell_type": "markdown",
   "id": "0d54e79c",
   "metadata": {},
   "source": [
    "### Type of a list"
   ]
  },
  {
   "cell_type": "code",
   "execution_count": 21,
   "id": "b289c393",
   "metadata": {},
   "outputs": [
    {
     "name": "stdout",
     "output_type": "stream",
     "text": [
      "<class 'list'>\n"
     ]
    }
   ],
   "source": [
    "print(type(name))"
   ]
  },
  {
   "cell_type": "markdown",
   "id": "aa20db49",
   "metadata": {},
   "source": [
    "### List constructor"
   ]
  },
  {
   "cell_type": "code",
   "execution_count": 55,
   "id": "31cf740b",
   "metadata": {
    "scrolled": false
   },
   "outputs": [
    {
     "name": "stdout",
     "output_type": "stream",
     "text": [
      "['John', 'Christina', 'Alex', 'Ann', 'Michelle', 'Chris', 'Ben', 'Will']\n"
     ]
    }
   ],
   "source": [
    "name = list((\"John\",\"Christina\",\"Alex\",\"Ann\",\"Michelle\",\"Chris\",\"Ben\",\"Will\"))\n",
    "print(name)"
   ]
  },
  {
   "cell_type": "markdown",
   "id": "d829eb02",
   "metadata": {},
   "source": [
    "### Range of Indexes"
   ]
  },
  {
   "cell_type": "code",
   "execution_count": 23,
   "id": "e4a7353e",
   "metadata": {
    "scrolled": false
   },
   "outputs": [
    {
     "name": "stdout",
     "output_type": "stream",
     "text": [
      "['Alex', 'Ann', 'Michelle']\n"
     ]
    }
   ],
   "source": [
    "print(name[2:5])\n",
    "\n",
    "# Remember that the first item is position 0 \n",
    "# and the item in position 3 is NOT included"
   ]
  },
  {
   "cell_type": "code",
   "execution_count": 106,
   "id": "8112e9ef",
   "metadata": {},
   "outputs": [
    {
     "name": "stdout",
     "output_type": "stream",
     "text": [
      "('ann', 'michelle', 'chris', 'ben', 'will')\n"
     ]
    }
   ],
   "source": [
    "print(name[3:])\n"
   ]
  },
  {
   "cell_type": "code",
   "execution_count": 25,
   "id": "c5f6098a",
   "metadata": {},
   "outputs": [
    {
     "name": "stdout",
     "output_type": "stream",
     "text": [
      "['John', 'Christina', 'Alex']\n"
     ]
    }
   ],
   "source": [
    "print(name[:3])\n"
   ]
  },
  {
   "cell_type": "code",
   "execution_count": 28,
   "id": "6ef5a944",
   "metadata": {},
   "outputs": [
    {
     "name": "stdout",
     "output_type": "stream",
     "text": [
      "['Michelle', 'Chris', 'Ben']\n"
     ]
    }
   ],
   "source": [
    "print(name[-4:-1])"
   ]
  },
  {
   "cell_type": "markdown",
   "id": "9b54c2cd",
   "metadata": {},
   "source": [
    "### Checking for items"
   ]
  },
  {
   "cell_type": "code",
   "execution_count": 32,
   "id": "08b17c4b",
   "metadata": {
    "scrolled": true
   },
   "outputs": [
    {
     "name": "stdout",
     "output_type": "stream",
     "text": [
      "The student is absent\n"
     ]
    }
   ],
   "source": [
    "if \"Smith\" in name:\n",
    "  print(\"Yes, The student is present.\")\n",
    "print(\"The student is absent\")"
   ]
  },
  {
   "cell_type": "markdown",
   "id": "3b18e7cb",
   "metadata": {},
   "source": [
    "### Change Item Value"
   ]
  },
  {
   "cell_type": "code",
   "execution_count": 110,
   "id": "ee3535af",
   "metadata": {
    "scrolled": false
   },
   "outputs": [
    {
     "name": "stdout",
     "output_type": "stream",
     "text": [
      "['john', 'christina', 'Joseph', 'ann', 'michelle', 'chris', 'ben', 'will']\n"
     ]
    }
   ],
   "source": [
    "name[2] = \"Joseph\"\n",
    "print(name)"
   ]
  },
  {
   "cell_type": "code",
   "execution_count": 107,
   "id": "1d188874",
   "metadata": {},
   "outputs": [
    {
     "name": "stdout",
     "output_type": "stream",
     "text": [
      "('john', 'christina', 'alex', 'ann', 'michelle', 'chris', 'ben', 'will')\n"
     ]
    }
   ],
   "source": [
    "print(name)"
   ]
  },
  {
   "cell_type": "markdown",
   "id": "88fbcca2",
   "metadata": {},
   "source": [
    "### Change a Range of Item Values"
   ]
  },
  {
   "cell_type": "code",
   "execution_count": 56,
   "id": "84361f7b",
   "metadata": {
    "scrolled": false
   },
   "outputs": [
    {
     "name": "stdout",
     "output_type": "stream",
     "text": [
      "['John', 'Christina', 'Joseph', 'Sam', 'Michelle', 'Chris', 'Ben', 'Will']\n"
     ]
    }
   ],
   "source": [
    "name[2:4] = [\"Joseph\",\"Sam\"]\n",
    "print(name)"
   ]
  },
  {
   "cell_type": "markdown",
   "id": "27e85a1a",
   "metadata": {},
   "source": [
    "### Insert Items"
   ]
  },
  {
   "cell_type": "code",
   "execution_count": 57,
   "id": "eb8d7196",
   "metadata": {
    "scrolled": true
   },
   "outputs": [
    {
     "name": "stdout",
     "output_type": "stream",
     "text": [
      "['John', 'Christina', 'Alex', 'Joseph', 'Sam', 'Michelle', 'Chris', 'Ben', 'Will']\n"
     ]
    }
   ],
   "source": [
    "name.insert(2,\"Alex\")\n",
    "print(name)"
   ]
  },
  {
   "cell_type": "code",
   "execution_count": 58,
   "id": "a8794672",
   "metadata": {
    "scrolled": true
   },
   "outputs": [
    {
     "name": "stdout",
     "output_type": "stream",
     "text": [
      "9\n"
     ]
    }
   ],
   "source": [
    "print(len(name))"
   ]
  },
  {
   "cell_type": "markdown",
   "id": "d3e9df62",
   "metadata": {},
   "source": [
    "### Append Items"
   ]
  },
  {
   "cell_type": "code",
   "execution_count": 114,
   "id": "d004629b",
   "metadata": {
    "scrolled": false
   },
   "outputs": [
    {
     "name": "stdout",
     "output_type": "stream",
     "text": [
      "['john', 'christina', 'Joseph', 'ann', 'michelle', 'chris', 'ben', 'will', 'Mariya']\n"
     ]
    }
   ],
   "source": [
    "name.append(\"Mariya\")\n",
    "print(name)"
   ]
  },
  {
   "cell_type": "markdown",
   "id": "73f2d446",
   "metadata": {},
   "source": [
    "### Remove Items"
   ]
  },
  {
   "cell_type": "code",
   "execution_count": 115,
   "id": "f1a4bab6",
   "metadata": {
    "scrolled": true
   },
   "outputs": [
    {
     "name": "stdout",
     "output_type": "stream",
     "text": [
      "['john', 'christina', 'Joseph', 'ann', 'michelle', 'chris', 'ben', 'will']\n"
     ]
    }
   ],
   "source": [
    "name.remove(\"Mariya\")\n",
    "print(name)"
   ]
  },
  {
   "cell_type": "markdown",
   "id": "9e8ea478",
   "metadata": {},
   "source": [
    "### Remove Specified Index"
   ]
  },
  {
   "cell_type": "code",
   "execution_count": 116,
   "id": "55b98a6b",
   "metadata": {},
   "outputs": [
    {
     "name": "stdout",
     "output_type": "stream",
     "text": [
      "['john', 'christina', 'Joseph', 'ann', 'chris', 'ben', 'will']\n"
     ]
    }
   ],
   "source": [
    "name.pop(4)\n",
    "print(name)"
   ]
  },
  {
   "cell_type": "code",
   "execution_count": 63,
   "id": "4ab9f1b0",
   "metadata": {
    "scrolled": true
   },
   "outputs": [
    {
     "name": "stdout",
     "output_type": "stream",
     "text": [
      "['John', 'Christina', 'Alex', 'Joseph', 'Michelle', 'Chris', 'Ben']\n"
     ]
    }
   ],
   "source": [
    "name.pop()\n",
    "print(name)"
   ]
  },
  {
   "cell_type": "code",
   "execution_count": 64,
   "id": "687a4790",
   "metadata": {
    "scrolled": true
   },
   "outputs": [
    {
     "name": "stdout",
     "output_type": "stream",
     "text": [
      "['Christina', 'Alex', 'Joseph', 'Michelle', 'Chris', 'Ben']\n"
     ]
    }
   ],
   "source": [
    "del name[0]\n",
    "print(name)"
   ]
  },
  {
   "cell_type": "code",
   "execution_count": 65,
   "id": "925df61b",
   "metadata": {},
   "outputs": [
    {
     "name": "stdout",
     "output_type": "stream",
     "text": [
      "[]\n"
     ]
    }
   ],
   "source": [
    "name.clear()\n",
    "print(name)"
   ]
  },
  {
   "cell_type": "markdown",
   "id": "4cd408cb",
   "metadata": {},
   "source": [
    "### List Comprehension"
   ]
  },
  {
   "cell_type": "code",
   "execution_count": 75,
   "id": "18b45fb5",
   "metadata": {},
   "outputs": [
    {
     "name": "stdout",
     "output_type": "stream",
     "text": [
      "['christina', 'alex', 'sam']\n"
     ]
    }
   ],
   "source": [
    "name = ['john', 'christina', 'alex', 'joseph', 'sam', 'michelle', 'chris', 'ben', 'will']\n",
    "newlist = []\n",
    "\n",
    "for x in name:\n",
    "     if \"a\" in x:\n",
    "        newlist.append(x)\n",
    "\n",
    "print(newlist)"
   ]
  },
  {
   "cell_type": "markdown",
   "id": "2e7660c9",
   "metadata": {},
   "source": [
    "### Sort List"
   ]
  },
  {
   "cell_type": "code",
   "execution_count": 76,
   "id": "57f3df67",
   "metadata": {
    "scrolled": true
   },
   "outputs": [
    {
     "name": "stdout",
     "output_type": "stream",
     "text": [
      "['alex', 'ben', 'chris', 'christina', 'john', 'joseph', 'michelle', 'sam', 'will']\n"
     ]
    }
   ],
   "source": [
    "name.sort()\n",
    "print(name)"
   ]
  },
  {
   "cell_type": "code",
   "execution_count": 77,
   "id": "2e4c2789",
   "metadata": {},
   "outputs": [
    {
     "name": "stdout",
     "output_type": "stream",
     "text": [
      "['will', 'sam', 'michelle', 'joseph', 'john', 'christina', 'chris', 'ben', 'alex']\n"
     ]
    }
   ],
   "source": [
    "name.sort(reverse = True)\n",
    "print(name)"
   ]
  },
  {
   "cell_type": "markdown",
   "id": "75641571",
   "metadata": {},
   "source": [
    "### Case Insensitive Sort"
   ]
  },
  {
   "cell_type": "code",
   "execution_count": 78,
   "id": "3b28ca36",
   "metadata": {
    "scrolled": false
   },
   "outputs": [
    {
     "name": "stdout",
     "output_type": "stream",
     "text": [
      "['Alex', 'John', 'Sam', 'Will', 'ben', 'chris', 'christina', 'joseph', 'michelle']\n"
     ]
    }
   ],
   "source": [
    "name = ['John', 'christina', 'Alex', 'joseph', 'Sam', 'michelle', 'chris', 'ben', 'Will']\n",
    "name.sort()\n",
    "print(name)"
   ]
  },
  {
   "cell_type": "code",
   "execution_count": 81,
   "id": "fae4f35b",
   "metadata": {},
   "outputs": [
    {
     "name": "stdout",
     "output_type": "stream",
     "text": [
      "['michelle', 'joseph', 'christina', 'chris', 'ben', 'Will', 'Sam', 'John', 'Alex']\n"
     ]
    }
   ],
   "source": [
    "name = ['John', 'christina', 'Alex', 'joseph', 'Sam', 'michelle', 'chris', 'ben', 'Will']\n",
    "name.sort(reverse = True)\n",
    "print(name)"
   ]
  },
  {
   "cell_type": "markdown",
   "id": "2c6013c3",
   "metadata": {},
   "source": [
    "### Reverse Order"
   ]
  },
  {
   "cell_type": "code",
   "execution_count": 80,
   "id": "6661a9b0",
   "metadata": {
    "scrolled": true
   },
   "outputs": [
    {
     "name": "stdout",
     "output_type": "stream",
     "text": [
      "['Will', 'ben', 'chris', 'michelle', 'Sam', 'joseph', 'Alex', 'christina', 'John']\n"
     ]
    }
   ],
   "source": [
    "name = ['John', 'christina', 'Alex', 'joseph', 'Sam', 'michelle', 'chris', 'ben', 'Will']\n",
    "name.reverse()\n",
    "print(name)"
   ]
  },
  {
   "cell_type": "markdown",
   "id": "fc573d6b",
   "metadata": {},
   "source": [
    "### Copy a List to another list"
   ]
  },
  {
   "cell_type": "code",
   "execution_count": 82,
   "id": "9ce4e956",
   "metadata": {
    "scrolled": true
   },
   "outputs": [
    {
     "name": "stdout",
     "output_type": "stream",
     "text": [
      "['john', 'christina', 'alex', 'joseph', 'sam', 'michelle', 'chris', 'ben', 'will']\n"
     ]
    }
   ],
   "source": [
    "name = ['john', 'christina', 'alex', 'joseph', 'sam', 'michelle', 'chris', 'ben', 'will']\n",
    "my_list = name.copy()\n",
    "print(my_list)"
   ]
  },
  {
   "cell_type": "markdown",
   "id": "18b28ccf",
   "metadata": {},
   "source": [
    "### Join Two Lists"
   ]
  },
  {
   "cell_type": "code",
   "execution_count": 84,
   "id": "4358ea97",
   "metadata": {
    "scrolled": true
   },
   "outputs": [
    {
     "name": "stdout",
     "output_type": "stream",
     "text": [
      "['john', 'christina', 'alex', 'joseph', 'sam', 'michelle', 'chris', 'ben', 'will', 5, 4, 1, 6, 8, 7, 3, 2, 9]\n"
     ]
    }
   ],
   "source": [
    "name = ['john', 'christina', 'alex', 'joseph', 'sam', 'michelle', 'chris', 'ben', 'will']\n",
    "roll_num = [5,4,1,6,8,7,3,2,9]\n",
    "stu_id = name + roll_num\n",
    "print(stu_id)"
   ]
  },
  {
   "cell_type": "code",
   "execution_count": 86,
   "id": "92670525",
   "metadata": {},
   "outputs": [
    {
     "name": "stdout",
     "output_type": "stream",
     "text": [
      "['john', 'christina', 'alex', 'joseph', 'sam', 'michelle', 'chris', 'ben', 'will', 5, 4, 1, 6, 8, 7, 3, 2, 9]\n"
     ]
    }
   ],
   "source": [
    "name = ['john', 'christina', 'alex', 'joseph', 'sam', 'michelle', 'chris', 'ben', 'will']\n",
    "roll_num = [5,4,1,6,8,7,3,2,9]\n",
    "for x in roll_num:\n",
    "    name.append(x)\n",
    "print(name)\n"
   ]
  },
  {
   "cell_type": "code",
   "execution_count": 87,
   "id": "0515dfee",
   "metadata": {
    "scrolled": true
   },
   "outputs": [
    {
     "name": "stdout",
     "output_type": "stream",
     "text": [
      "['john', 'christina', 'alex', 'joseph', 'sam', 'michelle', 'chris', 'ben', 'will', 5, 4, 1, 6, 8, 7, 3, 2, 9]\n"
     ]
    }
   ],
   "source": [
    "name = ['john', 'christina', 'alex', 'joseph', 'sam', 'michelle', 'chris', 'ben', 'will']\n",
    "roll_num = [5,4,1,6,8,7,3,2,9]\n",
    "name.extend(roll_num)\n",
    "print(name)"
   ]
  },
  {
   "cell_type": "markdown",
   "id": "92f367e6",
   "metadata": {},
   "source": [
    "# Tuples"
   ]
  },
  {
   "cell_type": "code",
   "execution_count": 89,
   "id": "985cada2",
   "metadata": {
    "scrolled": true
   },
   "outputs": [
    {
     "name": "stdout",
     "output_type": "stream",
     "text": [
      "('john', 'christina', 'alex', 'ann', 'michelle', 'chris', 'ben', 'will')\n"
     ]
    }
   ],
   "source": [
    "name_tuples = (\"john\",\"christina\",\"alex\",\"ann\",\"michelle\",\"chris\",\"ben\",\"will\")\n",
    "print(name_tuples)\n"
   ]
  },
  {
   "cell_type": "markdown",
   "id": "7b8f6c9c",
   "metadata": {},
   "source": [
    "### Change Tuple Values"
   ]
  },
  {
   "cell_type": "code",
   "execution_count": 94,
   "id": "9d5f93ce",
   "metadata": {},
   "outputs": [
    {
     "name": "stdout",
     "output_type": "stream",
     "text": [
      "('john', 'christina', 'alex', 'sam', 'michelle', 'chris', 'ben', 'will')\n"
     ]
    }
   ],
   "source": [
    "name_list = list (name_tuples)\n",
    "name_list[3] = \"sam\"\n",
    "name_tuples = tuple (name_list)\n",
    "print(name_tuples)\n"
   ]
  },
  {
   "cell_type": "markdown",
   "id": "ea93f96c",
   "metadata": {},
   "source": [
    "### Add Items"
   ]
  },
  {
   "cell_type": "code",
   "execution_count": null,
   "id": "e86c2b01",
   "metadata": {},
   "outputs": [],
   "source": []
  },
  {
   "cell_type": "markdown",
   "id": "bf42bd7b",
   "metadata": {},
   "source": [
    "### Loop Through a Tuple"
   ]
  },
  {
   "cell_type": "code",
   "execution_count": 98,
   "id": "570f72a7",
   "metadata": {
    "scrolled": true
   },
   "outputs": [
    {
     "name": "stdout",
     "output_type": "stream",
     "text": [
      "john\n",
      "christina\n",
      "alex\n",
      "ann\n",
      "michelle\n",
      "chris\n",
      "ben\n",
      "will\n"
     ]
    }
   ],
   "source": [
    "name_tuples = (\"john\",\"christina\",\"alex\",\"ann\",\"michelle\",\"chris\",\"ben\",\"will\")\n",
    "for x in name_tuples:\n",
    "    print(x)"
   ]
  },
  {
   "cell_type": "markdown",
   "id": "aa38fec2",
   "metadata": {},
   "source": [
    "### Loop Through the Index Numbers"
   ]
  },
  {
   "cell_type": "code",
   "execution_count": 99,
   "id": "03172525",
   "metadata": {
    "scrolled": true
   },
   "outputs": [
    {
     "name": "stdout",
     "output_type": "stream",
     "text": [
      "john\n",
      "christina\n",
      "alex\n",
      "ann\n",
      "michelle\n",
      "chris\n",
      "ben\n",
      "will\n"
     ]
    }
   ],
   "source": [
    "name_tuples = (\"john\",\"christina\",\"alex\",\"ann\",\"michelle\",\"chris\",\"ben\",\"will\")\n",
    "for i in range(len(name_tuples)):\n",
    "    print(name_tuples[i])"
   ]
  },
  {
   "cell_type": "markdown",
   "id": "ab40a76c",
   "metadata": {},
   "source": [
    "### Using a While Loop"
   ]
  },
  {
   "cell_type": "code",
   "execution_count": 100,
   "id": "8baa4b4b",
   "metadata": {
    "scrolled": false
   },
   "outputs": [
    {
     "name": "stdout",
     "output_type": "stream",
     "text": [
      "john\n",
      "christina\n",
      "alex\n",
      "ann\n",
      "michelle\n",
      "chris\n",
      "ben\n",
      "will\n"
     ]
    }
   ],
   "source": [
    "name_tuples = (\"john\",\"christina\",\"alex\",\"ann\",\"michelle\",\"chris\",\"ben\",\"will\")\n",
    "i = 0\n",
    "while i < len(name_tuples):\n",
    "  print(name_tuples[i])\n",
    "  i = i + 1"
   ]
  },
  {
   "cell_type": "markdown",
   "id": "c7b3e0fa",
   "metadata": {},
   "source": [
    "### Adding two tuples"
   ]
  },
  {
   "cell_type": "code",
   "execution_count": 104,
   "id": "03659790",
   "metadata": {
    "scrolled": false
   },
   "outputs": [
    {
     "name": "stdout",
     "output_type": "stream",
     "text": [
      "('john', 'christina', 'alex', 'ann', 'michelle', 'chris', 'ben', 'will', 5, 4, 1, 6, 8, 7, 3, 2, 9)\n"
     ]
    }
   ],
   "source": [
    "name_tuples = (\"john\",\"christina\",\"alex\",\"ann\",\"michelle\",\"chris\",\"ben\",\"will\")\n",
    "roll_num = (5,4,1,6,8,7,3,2,9)\n",
    "\n",
    "tuple3 = name_tuples + roll_num\n",
    "\n",
    "print(tuple3)"
   ]
  },
  {
   "cell_type": "markdown",
   "id": "c21b73a2",
   "metadata": {},
   "source": [
    "### Create Tuple With One Item"
   ]
  },
  {
   "cell_type": "code",
   "execution_count": 4,
   "id": "44fefc12",
   "metadata": {
    "scrolled": true
   },
   "outputs": [
    {
     "name": "stdout",
     "output_type": "stream",
     "text": [
      "john\n",
      "<class 'str'>\n"
     ]
    }
   ],
   "source": [
    "name_tuples = (\"john\")\n",
    "print(name_tuples)\n",
    "print(type(name_tuples))\n"
   ]
  },
  {
   "cell_type": "code",
   "execution_count": 5,
   "id": "fc50cc0f",
   "metadata": {},
   "outputs": [
    {
     "name": "stdout",
     "output_type": "stream",
     "text": [
      "('john',)\n",
      "<class 'tuple'>\n"
     ]
    }
   ],
   "source": [
    "name_tuples = (\"john\",)\n",
    "print(name_tuples)\n",
    "print(type(name_tuples))"
   ]
  },
  {
   "cell_type": "markdown",
   "id": "493322a7",
   "metadata": {},
   "source": [
    "### The tuple() Constructor\n"
   ]
  },
  {
   "cell_type": "code",
   "execution_count": 81,
   "id": "88f123db",
   "metadata": {},
   "outputs": [
    {
     "name": "stdout",
     "output_type": "stream",
     "text": [
      "('john', 'christina', 'alex', 'ann', 'michelle', 'chris', 'ben', 'will')\n"
     ]
    }
   ],
   "source": [
    "name_tuples =tuple((\"john\",\"christina\",\"alex\",\"ann\",\"michelle\",\"chris\",\"ben\",\"will\"))\n",
    "print(name_tuples)"
   ]
  },
  {
   "cell_type": "markdown",
   "id": "0603f76c",
   "metadata": {},
   "source": [
    "#### Create a tuple and print values from the tuple for :\n",
    "#### a, positive index\n",
    "#### b, negative index\n",
    "#### c, range of indexes\n"
   ]
  },
  {
   "cell_type": "code",
   "execution_count": null,
   "id": "7598ca8b",
   "metadata": {},
   "outputs": [],
   "source": []
  },
  {
   "cell_type": "markdown",
   "id": "c26a809f",
   "metadata": {},
   "source": [
    "### Unpacking of tuples"
   ]
  },
  {
   "cell_type": "code",
   "execution_count": 49,
   "id": "d1a818f7",
   "metadata": {
    "scrolled": false
   },
   "outputs": [
    {
     "name": "stdout",
     "output_type": "stream",
     "text": [
      "john\n",
      "christina\n",
      "alex\n",
      "ann\n"
     ]
    }
   ],
   "source": [
    "name_tuples = (\"john\",\"christina\",\"alex\",\"ann\",\"michelle\",\"chris\",\"ben\",\"will\")\n",
    "\n",
    "(a,b,c,d,e,f,g,h) = name_tuples\n",
    "print(a)\n",
    "print(b)\n",
    "print(c)\n",
    "print(d)\n"
   ]
  },
  {
   "cell_type": "markdown",
   "id": "af59755f",
   "metadata": {},
   "source": [
    "### Loop in tuples"
   ]
  },
  {
   "cell_type": "code",
   "execution_count": 82,
   "id": "2022b749",
   "metadata": {
    "scrolled": true
   },
   "outputs": [
    {
     "name": "stdout",
     "output_type": "stream",
     "text": [
      "john\n",
      "christina\n",
      "alex\n",
      "ann\n"
     ]
    }
   ],
   "source": [
    "(a,b,c,d,e,f,g,h) = (\"john\",\"christina\",\"alex\",\"ann\",\"michelle\",\"chris\",\"ben\",\"will\")\n",
    "print(a)\n",
    "print(b)\n",
    "print(c)\n",
    "print(d)"
   ]
  },
  {
   "cell_type": "markdown",
   "id": "aa9f4596",
   "metadata": {},
   "source": [
    "# Sets"
   ]
  },
  {
   "cell_type": "code",
   "execution_count": 35,
   "id": "444ff49e",
   "metadata": {},
   "outputs": [
    {
     "name": "stdout",
     "output_type": "stream",
     "text": [
      "{'john', 'joseph', 'alex', 'sam', 'christina', 'michelle', 'ben', 'will', 'chris'}\n"
     ]
    }
   ],
   "source": [
    "name_set = {'john', 'christina','alex', 'joseph', 'sam', 'michelle', 'chris', 'ben', 'will'}\n",
    "print(name_set)"
   ]
  },
  {
   "cell_type": "code",
   "execution_count": 22,
   "id": "70753f50",
   "metadata": {},
   "outputs": [
    {
     "name": "stdout",
     "output_type": "stream",
     "text": [
      "9\n"
     ]
    }
   ],
   "source": [
    "print(len(name_set))"
   ]
  },
  {
   "cell_type": "code",
   "execution_count": 23,
   "id": "4a39f40c",
   "metadata": {
    "scrolled": false
   },
   "outputs": [
    {
     "name": "stdout",
     "output_type": "stream",
     "text": [
      "{True, 34, 'male', 40, 'john'}\n"
     ]
    }
   ],
   "source": [
    "set1 = {\"john\", 34, True, 40, \"male\"}\n",
    "print(set1)"
   ]
  },
  {
   "cell_type": "code",
   "execution_count": 24,
   "id": "0354f714",
   "metadata": {},
   "outputs": [
    {
     "name": "stdout",
     "output_type": "stream",
     "text": [
      "<class 'set'>\n"
     ]
    }
   ],
   "source": [
    "print(type(name_set))"
   ]
  },
  {
   "cell_type": "code",
   "execution_count": 51,
   "id": "b12155b3",
   "metadata": {},
   "outputs": [
    {
     "name": "stdout",
     "output_type": "stream",
     "text": [
      "{'christina', 'john', 'joseph', 'alex'}\n"
     ]
    }
   ],
   "source": [
    "name_set = set(('john', 'christina','alex', 'joseph'))\n",
    "print(name_set)"
   ]
  },
  {
   "cell_type": "markdown",
   "id": "d58e7a13",
   "metadata": {},
   "source": [
    "### Access Items from a set\n",
    "\n",
    "#### cannot access items in a set by referring to an index or a key."
   ]
  },
  {
   "cell_type": "code",
   "execution_count": 50,
   "id": "a1319dd4",
   "metadata": {
    "scrolled": true
   },
   "outputs": [
    {
     "name": "stdout",
     "output_type": "stream",
     "text": [
      "Alabama\n",
      "texas\n",
      "california\n",
      "23\n",
      "40\n",
      "john\n",
      "sam\n",
      "ben\n",
      "Ohio\n",
      "will\n",
      "67\n",
      "colorado\n",
      "christina\n",
      "michelle\n",
      "89\n",
      "kate\n",
      "washington\n",
      "chris\n"
     ]
    }
   ],
   "source": [
    "for x in name_set :\n",
    "    print(x)"
   ]
  },
  {
   "cell_type": "markdown",
   "id": "58032db8",
   "metadata": {},
   "source": [
    "### Add Items"
   ]
  },
  {
   "cell_type": "code",
   "execution_count": 36,
   "id": "0bc20839",
   "metadata": {
    "scrolled": false
   },
   "outputs": [
    {
     "name": "stdout",
     "output_type": "stream",
     "text": [
      "{'kate', 'john', 'joseph', 'alex', 'sam', 'christina', 'michelle', 'ben', 'will', 'chris'}\n"
     ]
    }
   ],
   "source": [
    "name_set.add(\"kate\")\n",
    "print(name_set)"
   ]
  },
  {
   "cell_type": "markdown",
   "id": "9844b85c",
   "metadata": {},
   "source": [
    "### Add Set to another set"
   ]
  },
  {
   "cell_type": "code",
   "execution_count": 37,
   "id": "0ad56226",
   "metadata": {},
   "outputs": [
    {
     "name": "stdout",
     "output_type": "stream",
     "text": [
      "{'kate', 'colorado', 'john', 'joseph', 'alex', 'Alabama', 'texas', 'sam', 'christina', 'michelle', 'ben', 'california', 'new york', 'will', 'Ohio', 'washington', 'chris'}\n"
     ]
    }
   ],
   "source": [
    "place = {\"new york\", \"california\",\"colorado\", \"texas\",\"washington\",\"Ohio\",\"Alabama\"}\n",
    "name_set.update(place)\n",
    "print(name_set)\n"
   ]
  },
  {
   "cell_type": "markdown",
   "id": "f10e9d48",
   "metadata": {},
   "source": [
    "### Add Any Iterable to a set"
   ]
  },
  {
   "cell_type": "code",
   "execution_count": 83,
   "id": "da9a6f2e",
   "metadata": {},
   "outputs": [
    {
     "name": "stdout",
     "output_type": "stream",
     "text": [
      "{67, '40', 'john', 'joseph', 'alex', 45, 'christina', 23, 89}\n"
     ]
    }
   ],
   "source": [
    "mark = [23,45,67,89,'40']\n",
    "name_set.update(mark)\n",
    "print(name_set)"
   ]
  },
  {
   "cell_type": "markdown",
   "id": "4aaad768",
   "metadata": {},
   "source": [
    "### Remove Item\n"
   ]
  },
  {
   "cell_type": "code",
   "execution_count": 46,
   "id": "187c923c",
   "metadata": {
    "scrolled": true
   },
   "outputs": [
    {
     "name": "stdout",
     "output_type": "stream",
     "text": [
      "{'joseph', 'Alabama', 'alex', 'texas', 'california', 23, 40, 'john', 'sam', 'ben', 'Ohio', 'will', 67, 'colorado', 'christina', 'michelle', 89, 'kate', 'washington', 'chris'}\n"
     ]
    }
   ],
   "source": [
    "name_set.remove(45)\n",
    "print(name_set)"
   ]
  },
  {
   "cell_type": "code",
   "execution_count": 47,
   "id": "dcc9a9c0",
   "metadata": {
    "scrolled": false
   },
   "outputs": [
    {
     "name": "stdout",
     "output_type": "stream",
     "text": [
      "{'joseph', 'Alabama', 'texas', 'california', 23, 40, 'john', 'sam', 'ben', 'Ohio', 'will', 67, 'colorado', 'christina', 'michelle', 89, 'kate', 'washington', 'chris'}\n"
     ]
    }
   ],
   "source": [
    "name_set.discard(\"alex\")\n",
    "print(name_set)"
   ]
  },
  {
   "cell_type": "code",
   "execution_count": 52,
   "id": "2e483e06",
   "metadata": {},
   "outputs": [
    {
     "name": "stdout",
     "output_type": "stream",
     "text": [
      "{'john', 'joseph', 'alex'}\n"
     ]
    }
   ],
   "source": [
    "name_set.pop()\n",
    "print(name_set)"
   ]
  },
  {
   "cell_type": "code",
   "execution_count": 70,
   "id": "b80d5e42",
   "metadata": {},
   "outputs": [
    {
     "name": "stdout",
     "output_type": "stream",
     "text": [
      "set()\n"
     ]
    }
   ],
   "source": [
    "name_set.clear()\n",
    "print(name_set)"
   ]
  },
  {
   "cell_type": "markdown",
   "id": "fb2972af",
   "metadata": {},
   "source": [
    "### intersection"
   ]
  },
  {
   "cell_type": "code",
   "execution_count": 71,
   "id": "bfdb22d9",
   "metadata": {},
   "outputs": [
    {
     "name": "stdout",
     "output_type": "stream",
     "text": [
      "{'christina', 'john', 'alex'}\n"
     ]
    }
   ],
   "source": [
    "name_set1 = {'john', 'christina','alex', 'joseph'}\n",
    "name_set2 = (\"john\",\"christina\",\"alex\",\"ann\",\"michelle\",\"chris\",\"ben\",\"will\")\n",
    "set3 = name_set1.intersection(name_set2)\n",
    "print(set3)"
   ]
  },
  {
   "cell_type": "markdown",
   "id": "c795994a",
   "metadata": {},
   "source": [
    "### intersection update"
   ]
  },
  {
   "cell_type": "code",
   "execution_count": 84,
   "id": "ad9ed9cc",
   "metadata": {},
   "outputs": [
    {
     "name": "stdout",
     "output_type": "stream",
     "text": [
      "{'christina', 'john', 'alex'}\n"
     ]
    }
   ],
   "source": [
    "name_set1 = {'john', 'christina','alex', 'joseph'}\n",
    "name_set2 = (\"john\",\"christina\",\"alex\",\"ann\",\"michelle\",\"chris\",\"ben\",\"will\")\n",
    "name_set1.intersection_update(name_set2)\n",
    "print(name_set1)"
   ]
  },
  {
   "cell_type": "markdown",
   "id": "3af114cb",
   "metadata": {},
   "source": [
    "### Update"
   ]
  },
  {
   "cell_type": "code",
   "execution_count": 77,
   "id": "df088f62",
   "metadata": {},
   "outputs": [
    {
     "name": "stdout",
     "output_type": "stream",
     "text": [
      "{'ann', 'john', 'joseph', 'alex', 'christina', 'michelle', 'ben', 'will', 'chris'}\n"
     ]
    }
   ],
   "source": [
    "name_set1 = {'john', 'christina','alex', 'joseph'}\n",
    "name_set2 = (\"john\",\"christina\",\"alex\",\"ann\",\"michelle\",\"chris\",\"ben\",\"will\")\n",
    "\n",
    "name_set1.update(name_set2)\n",
    "\n",
    "print(name_set1)"
   ]
  },
  {
   "cell_type": "markdown",
   "id": "23ecaa5b",
   "metadata": {},
   "source": [
    "###  Difference\n"
   ]
  },
  {
   "cell_type": "code",
   "execution_count": 93,
   "id": "4c3ad9fa",
   "metadata": {},
   "outputs": [
    {
     "name": "stdout",
     "output_type": "stream",
     "text": [
      "{'joseph'}\n",
      "{'ann', 'michelle', 'ben', 'will', 'chris'}\n"
     ]
    }
   ],
   "source": [
    "name_set1 = {'john', 'christina','alex', 'joseph'}\n",
    "name_set2 = {\"john\",\"christina\",\"alex\",\"ann\",\"michelle\",\"chris\",\"ben\",\"will\"}\n",
    "\n",
    "set3 = name_set1.difference(name_set2)\n",
    "set4 = name_set2.difference(name_set1)\n",
    "\n",
    "print(set3)\n",
    "print(set4)\n"
   ]
  },
  {
   "cell_type": "code",
   "execution_count": 91,
   "id": "84e75e95",
   "metadata": {},
   "outputs": [
    {
     "name": "stdout",
     "output_type": "stream",
     "text": [
      "{'ann', 'michelle', 'ben', 'will', 'chris'}\n"
     ]
    }
   ],
   "source": [
    "name_set2 = {\"john\",\"christina\",\"alex\",\"ann\",\"michelle\",\"chris\",\"ben\",\"will\"}\n",
    "name_set1 = {'john', 'christina','alex', 'joseph'}\n",
    "set4 = name_set2.difference(name_set1)\n",
    "print(set4)"
   ]
  },
  {
   "cell_type": "markdown",
   "id": "032c381d",
   "metadata": {},
   "source": [
    "### Difference_update\n",
    "### The difference_update() method removes the items that exist in both sets.\n",
    "\n"
   ]
  },
  {
   "cell_type": "code",
   "execution_count": 69,
   "id": "e13e16bb",
   "metadata": {
    "scrolled": true
   },
   "outputs": [
    {
     "name": "stdout",
     "output_type": "stream",
     "text": [
      "{'joseph'}\n"
     ]
    }
   ],
   "source": [
    "name_set1 = {'john', 'christina','alex', 'joseph'}\n",
    "name_set2 = (\"john\",\"christina\",\"alex\",\"ann\",\"michelle\",\"chris\",\"ben\",\"will\")\n",
    "name_set1.difference_update(name_set2)\n",
    "print(name_set1)"
   ]
  },
  {
   "cell_type": "markdown",
   "id": "d4cf3742",
   "metadata": {},
   "source": [
    "### Symmetric difference\n",
    "\n",
    "#### The symmetric_difference() returns a set that contains all items from both set, but not the items that are present in both sets.\n",
    "\n"
   ]
  },
  {
   "cell_type": "code",
   "execution_count": 60,
   "id": "7a50b094",
   "metadata": {},
   "outputs": [
    {
     "name": "stdout",
     "output_type": "stream",
     "text": [
      "{'ann', 'joseph', 'michelle', 'ben', 'will', 'chris'}\n"
     ]
    }
   ],
   "source": [
    "name_set1 = {'john', 'christina','alex', 'joseph'}\n",
    "name_set2 = (\"john\",\"christina\",\"alex\",\"ann\",\"michelle\",\"chris\",\"ben\",\"will\")\n",
    "set3 = name_set1.symmetric_difference(name_set2)\n",
    "print(set3)"
   ]
  },
  {
   "cell_type": "markdown",
   "id": "0128da1c",
   "metadata": {},
   "source": [
    "### Join Two Sets"
   ]
  },
  {
   "cell_type": "code",
   "execution_count": 96,
   "id": "6d2ab3ee",
   "metadata": {},
   "outputs": [
    {
     "name": "stdout",
     "output_type": "stream",
     "text": [
      "{'ann', 'john', 'joseph', 'alex', 'christina', 'michelle', 'ben', 'will', 'chris'}\n",
      "{67, 'ann', 40, 'john', 'joseph', 'alex', 45, 'christina', 'michelle', 'ben', 23, 'will', 89, 'chris'}\n"
     ]
    }
   ],
   "source": [
    "name_set = {'john', 'christina','alex', 'joseph'}\n",
    "mark = {23,45,67,89,40}\n",
    "name_set2 = (\"john\",\"christina\",\"alex\",\"ann\",\"michelle\",\"chris\",\"ben\",\"will\")\n",
    "\n",
    "set_u1 = name_set.union(name_set2)\n",
    "set_u2 = set_u1.union(mark)\n",
    "\n",
    "print(set_u1)\n",
    "print(set_u2)"
   ]
  },
  {
   "cell_type": "code",
   "execution_count": 1,
   "id": "3aaca4f4",
   "metadata": {},
   "outputs": [
    {
     "name": "stdout",
     "output_type": "stream",
     "text": [
      "True\n",
      "True\n"
     ]
    }
   ],
   "source": [
    "set1 = {10, 20, 30, 40, 50}\n",
    "set2 = {60, 70, 10, 30, 40, 80, 20, 50}\n",
    "\n",
    "print(set1.issubset(set2))\n",
    "print(set2.issuperset(set1))"
   ]
  },
  {
   "cell_type": "code",
   "execution_count": 2,
   "id": "fd6fe796",
   "metadata": {},
   "outputs": [
    {
     "name": "stdout",
     "output_type": "stream",
     "text": [
      "{('abc', 'xyz'), 1, 'PYnative'}\n"
     ]
    }
   ],
   "source": [
    "aSet = {1, 'PYnative', ('abc', 'xyz'), True}\n",
    "print(aSet)"
   ]
  },
  {
   "cell_type": "code",
   "execution_count": 3,
   "id": "93183105",
   "metadata": {},
   "outputs": [
    {
     "name": "stdout",
     "output_type": "stream",
     "text": [
      "Black\n",
      "Yellow\n",
      "Orange\n"
     ]
    }
   ],
   "source": [
    "sampleSet = {\"Yellow\", \"Orange\", \"Black\"}\n",
    "for item in sampleSet:\n",
    "    print(item)"
   ]
  },
  {
   "cell_type": "code",
   "execution_count": 4,
   "id": "32ef3252",
   "metadata": {},
   "outputs": [],
   "source": [
    " P = {\"B\",\"A\",\"N\",\"A\",\"R\",\"A\",\"S\"}\n",
    " Q = {\"B\",\"H\",\"A\",\"R\",\"A\",\"T\"}\n",
    " R = {\"B\",\"H\",\"A\",\"T\",\"I\",\"N\",\"D\",\"A\"}"
   ]
  },
  {
   "cell_type": "code",
   "execution_count": 5,
   "id": "8fc4d2b6",
   "metadata": {},
   "outputs": [],
   "source": [
    "a=P.symmetric_difference(Q)"
   ]
  },
  {
   "cell_type": "code",
   "execution_count": 6,
   "id": "528b5689",
   "metadata": {},
   "outputs": [
    {
     "name": "stdout",
     "output_type": "stream",
     "text": [
      "{'N', 'T', 'H', 'S'}\n"
     ]
    }
   ],
   "source": [
    "print(a)"
   ]
  },
  {
   "cell_type": "markdown",
   "id": "eb1a227b",
   "metadata": {},
   "source": [
    "## Dictionaries"
   ]
  },
  {
   "cell_type": "code",
   "execution_count": 1,
   "id": "4c7da050",
   "metadata": {},
   "outputs": [
    {
     "name": "stdout",
     "output_type": "stream",
     "text": [
      "{'brand': 'Ford', 'electric': False, 'year': 1964, 'colors': ['red', 'white', 'blue']}\n"
     ]
    }
   ],
   "source": [
    "carmodel = {\n",
    "  \"brand\": \"Ford\",\n",
    "  \"electric\": False,\n",
    "  \"year\": 1964,\n",
    "  \"colors\": [\"red\", \"white\", \"blue\"]\n",
    "}\n",
    "print(carmodel)"
   ]
  },
  {
   "cell_type": "code",
   "execution_count": 4,
   "id": "c66007f6",
   "metadata": {},
   "outputs": [
    {
     "name": "stdout",
     "output_type": "stream",
     "text": [
      "{'brand': 'Ford', 'electric': False, 'year': 1964, 'colors': ''}\n"
     ]
    }
   ],
   "source": [
    "carmodel = {\n",
    "  \"brand\": \"Ford\",\n",
    "  \"electric\": False,\n",
    "  \"year\": 1964,\n",
    "  \"colors\": \"\"\n",
    "}\n",
    "print(carmodel)"
   ]
  },
  {
   "cell_type": "code",
   "execution_count": 5,
   "id": "1d604ddc",
   "metadata": {
    "scrolled": true
   },
   "outputs": [
    {
     "name": "stdout",
     "output_type": "stream",
     "text": [
      "4\n"
     ]
    }
   ],
   "source": [
    "print(len(carmodel))\n"
   ]
  },
  {
   "cell_type": "code",
   "execution_count": 6,
   "id": "524b823f",
   "metadata": {},
   "outputs": [
    {
     "name": "stdout",
     "output_type": "stream",
     "text": [
      "{'brand': 'Ford', 'electric': False, 'year': 2020, 'colors': ['red', 'white', 'blue']}\n"
     ]
    }
   ],
   "source": [
    "car = {\n",
    "  \"brand\": \"Ford\",\n",
    "  \"electric\": False,\n",
    "  \"year\": 2020,    \n",
    "  \"colors\": [\"red\", \"white\", \"blue\"]\n",
    "}\n",
    "print(car)"
   ]
  },
  {
   "cell_type": "code",
   "execution_count": 8,
   "id": "10e2fc1c",
   "metadata": {},
   "outputs": [
    {
     "name": "stdout",
     "output_type": "stream",
     "text": [
      "{'brand': 'Ford', 'electric': False, 2: 2020, 'colors': ['red', 'white', 'blue']}\n"
     ]
    }
   ],
   "source": [
    "car = {\n",
    "  \"brand\": \"Ford\",\n",
    "  \"electric\": False,\n",
    "  2 : 2020,    \n",
    "  \"colors\": [\"red\", \"white\", \"blue\"]\n",
    "}\n",
    "print(car)"
   ]
  },
  {
   "cell_type": "code",
   "execution_count": 30,
   "id": "3622e56f",
   "metadata": {
    "scrolled": true
   },
   "outputs": [
    {
     "name": "stdout",
     "output_type": "stream",
     "text": [
      "<class 'dict'>\n"
     ]
    }
   ],
   "source": [
    "print(type(car))"
   ]
  },
  {
   "cell_type": "markdown",
   "id": "f9bb1710",
   "metadata": {},
   "source": [
    "### Access the data from a dictionary"
   ]
  },
  {
   "cell_type": "code",
   "execution_count": 31,
   "id": "1234a7e5",
   "metadata": {},
   "outputs": [
    {
     "name": "stdout",
     "output_type": "stream",
     "text": [
      "1947\n"
     ]
    }
   ],
   "source": [
    "x = car[\"year\"]\n",
    "print(x)"
   ]
  },
  {
   "cell_type": "code",
   "execution_count": 32,
   "id": "1a40d66c",
   "metadata": {},
   "outputs": [
    {
     "name": "stdout",
     "output_type": "stream",
     "text": [
      "Ford\n"
     ]
    }
   ],
   "source": [
    "y = car.get(\"brand\")\n",
    "print(y)"
   ]
  },
  {
   "cell_type": "code",
   "execution_count": 33,
   "id": "a45b949a",
   "metadata": {},
   "outputs": [
    {
     "name": "stdout",
     "output_type": "stream",
     "text": [
      "dict_keys(['brand', 'electric', 'year', 'colors'])\n"
     ]
    }
   ],
   "source": [
    "z = car.keys()\n",
    "print(z)"
   ]
  },
  {
   "cell_type": "markdown",
   "id": "9b857818",
   "metadata": {},
   "source": [
    "### Add new key to the dictionary"
   ]
  },
  {
   "cell_type": "code",
   "execution_count": 46,
   "id": "cfa63705",
   "metadata": {},
   "outputs": [
    {
     "name": "stdout",
     "output_type": "stream",
     "text": [
      "{'brand': 'Ford', 'electric': False, 'year': 2020, 'colors': ['red', 'white', 'blue'], 'seater': 5}\n"
     ]
    }
   ],
   "source": [
    "car[\"seater\"] = 5\n",
    "print(car)"
   ]
  },
  {
   "cell_type": "code",
   "execution_count": 40,
   "id": "eafc44df",
   "metadata": {
    "scrolled": false
   },
   "outputs": [
    {
     "name": "stdout",
     "output_type": "stream",
     "text": [
      "dict_items([('brand', 'Ford'), ('electric', False), ('year', 2020), ('colors', ['red', 'white', 'blue']), ('seater', 5)])\n"
     ]
    }
   ],
   "source": [
    "x = car.items()\n",
    "print(x)\n",
    "\n",
    "# Return each item in a dictionary, as tuples in a list."
   ]
  },
  {
   "cell_type": "markdown",
   "id": "5b96aa83",
   "metadata": {},
   "source": [
    "### Q1: Write a script to check if Key Exists\n"
   ]
  },
  {
   "cell_type": "code",
   "execution_count": null,
   "id": "50ae2c43",
   "metadata": {},
   "outputs": [],
   "source": []
  },
  {
   "cell_type": "markdown",
   "id": "0c2ed804",
   "metadata": {},
   "source": [
    "### Change Values in a Dictionary\n"
   ]
  },
  {
   "cell_type": "code",
   "execution_count": 12,
   "id": "9a8e21e6",
   "metadata": {},
   "outputs": [
    {
     "name": "stdout",
     "output_type": "stream",
     "text": [
      "{'brand': 'Ford', 'electric': False, 'year': 2020, 'colors': ['red', 'white', 'blue'], 'seater': 5}\n"
     ]
    }
   ],
   "source": [
    "car = {\n",
    "  \"brand\": \"Ford\",\n",
    "  \"electric\": False,\n",
    "  \"year\": 2020,    \n",
    "  \"colors\": [\"red\", \"white\", \"blue\"],\n",
    "  \"seater\": 5\n",
    "}\n",
    "print(car)"
   ]
  },
  {
   "cell_type": "code",
   "execution_count": 42,
   "id": "94df8e66",
   "metadata": {
    "scrolled": false
   },
   "outputs": [
    {
     "name": "stdout",
     "output_type": "stream",
     "text": [
      "{'brand': 'Ford', 'electric': False, 'year': 2020, 'colors': 'black', 'seater': 5}\n"
     ]
    }
   ],
   "source": [
    "car[\"colors\"] = \"black\"\n",
    "print(car)"
   ]
  },
  {
   "cell_type": "code",
   "execution_count": 44,
   "id": "d0ed517d",
   "metadata": {},
   "outputs": [
    {
     "name": "stdout",
     "output_type": "stream",
     "text": [
      "{'brand': 'Ford', 'electric': False, 'year': '2022', 'colors': 'black', 'seater': 5}\n"
     ]
    }
   ],
   "source": [
    "car.update({\"year\" : \"2022\"})\n",
    "print(car)"
   ]
  },
  {
   "cell_type": "code",
   "execution_count": 48,
   "id": "34a8de55",
   "metadata": {
    "scrolled": true
   },
   "outputs": [
    {
     "name": "stdout",
     "output_type": "stream",
     "text": [
      "{'brand': 'Ford', 'electric': False, 'year': 2020, 'colors': ['red', 'black', 'blue'], 'seater': 5}\n"
     ]
    }
   ],
   "source": [
    "car[\"colors\"][1] = \"black\"\n",
    "print(car)"
   ]
  },
  {
   "cell_type": "code",
   "execution_count": 13,
   "id": "5dcba3e8",
   "metadata": {
    "scrolled": true
   },
   "outputs": [
    {
     "name": "stdout",
     "output_type": "stream",
     "text": [
      "{'brand': 'Ford', 'electric': False, 'year': 2020, 'colors': ['red', 'white', 'blue', 'black'], 'seater': 5}\n"
     ]
    }
   ],
   "source": [
    "car[\"colors\"].append(\"black\")\n",
    "print(car)"
   ]
  },
  {
   "cell_type": "markdown",
   "id": "d71322c8",
   "metadata": {},
   "source": [
    "### Removing Items\n"
   ]
  },
  {
   "cell_type": "code",
   "execution_count": 52,
   "id": "beca5a47",
   "metadata": {},
   "outputs": [
    {
     "name": "stdout",
     "output_type": "stream",
     "text": [
      "{'brand': 'Ford', 'year': 2020, 'colors': ['red', 'black', 'blue', 'black'], 'seater': 5}\n"
     ]
    }
   ],
   "source": [
    "car.pop(\"electric\")\n",
    "print(car)"
   ]
  },
  {
   "cell_type": "code",
   "execution_count": 53,
   "id": "9b1d8a8f",
   "metadata": {},
   "outputs": [
    {
     "name": "stdout",
     "output_type": "stream",
     "text": [
      "{'brand': 'Ford', 'year': 2020, 'colors': ['red', 'black', 'blue', 'black']}\n"
     ]
    }
   ],
   "source": [
    "car.popitem()\n",
    "print(car)\n",
    "#Remove the last added item from the dictionary"
   ]
  },
  {
   "cell_type": "code",
   "execution_count": 54,
   "id": "d5812ad7",
   "metadata": {},
   "outputs": [
    {
     "name": "stdout",
     "output_type": "stream",
     "text": [
      "{'brand': 'Ford', 'colors': ['red', 'black', 'blue', 'black']}\n"
     ]
    }
   ],
   "source": [
    "del car[\"year\"]\n",
    "print(car)"
   ]
  },
  {
   "cell_type": "code",
   "execution_count": 55,
   "id": "39945412",
   "metadata": {},
   "outputs": [
    {
     "name": "stdout",
     "output_type": "stream",
     "text": [
      "{}\n"
     ]
    }
   ],
   "source": [
    "car.clear() \n",
    "print(car)"
   ]
  },
  {
   "cell_type": "markdown",
   "id": "171b2931",
   "metadata": {},
   "source": [
    "### Loop Through a Dictionary"
   ]
  },
  {
   "cell_type": "code",
   "execution_count": 57,
   "id": "3e07575e",
   "metadata": {},
   "outputs": [],
   "source": [
    "car = {\n",
    "  \"brand\": \"Ford\",\n",
    "  \"electric\": False,\n",
    "  \"year\": 2020,    \n",
    "  \"colors\": [\"red\", \"white\", \"blue\"],\n",
    "  \"seater\": 5\n",
    "}"
   ]
  },
  {
   "cell_type": "code",
   "execution_count": 14,
   "id": "8385acd3",
   "metadata": {
    "scrolled": false
   },
   "outputs": [
    {
     "name": "stdout",
     "output_type": "stream",
     "text": [
      "brand\n",
      "electric\n",
      "year\n",
      "colors\n",
      "seater\n"
     ]
    }
   ],
   "source": [
    "for x in car:\n",
    "    print(x)"
   ]
  },
  {
   "cell_type": "code",
   "execution_count": 15,
   "id": "e4264510",
   "metadata": {},
   "outputs": [
    {
     "name": "stdout",
     "output_type": "stream",
     "text": [
      "Ford\n",
      "False\n",
      "2020\n",
      "['red', 'white', 'blue', 'black']\n",
      "5\n"
     ]
    }
   ],
   "source": [
    "for x in car.values():\n",
    "    print(x)"
   ]
  },
  {
   "cell_type": "code",
   "execution_count": 59,
   "id": "60b23869",
   "metadata": {
    "scrolled": true
   },
   "outputs": [
    {
     "name": "stdout",
     "output_type": "stream",
     "text": [
      "Ford\n",
      "False\n",
      "2020\n",
      "['red', 'white', 'blue']\n",
      "5\n"
     ]
    }
   ],
   "source": [
    "for x in car:\n",
    "    print(car[x])"
   ]
  },
  {
   "cell_type": "code",
   "execution_count": null,
   "id": "0412a372",
   "metadata": {},
   "outputs": [],
   "source": []
  },
  {
   "cell_type": "code",
   "execution_count": 61,
   "id": "271543b1",
   "metadata": {},
   "outputs": [
    {
     "name": "stdout",
     "output_type": "stream",
     "text": [
      "brand\n",
      "electric\n",
      "year\n",
      "colors\n",
      "seater\n"
     ]
    }
   ],
   "source": [
    "for x in car.keys():\n",
    "    print(x)"
   ]
  },
  {
   "cell_type": "code",
   "execution_count": 62,
   "id": "7eb4fd19",
   "metadata": {},
   "outputs": [
    {
     "name": "stdout",
     "output_type": "stream",
     "text": [
      "brand Ford\n",
      "electric False\n",
      "year 2020\n",
      "colors ['red', 'white', 'blue']\n",
      "seater 5\n"
     ]
    }
   ],
   "source": [
    "for x, y in car.items():\n",
    "  print(x, y)"
   ]
  },
  {
   "cell_type": "markdown",
   "id": "e5d598ce",
   "metadata": {},
   "source": [
    "### Copy a Dictionary"
   ]
  },
  {
   "cell_type": "code",
   "execution_count": 64,
   "id": "261a8ea7",
   "metadata": {},
   "outputs": [
    {
     "name": "stdout",
     "output_type": "stream",
     "text": [
      "{'brand': 'Ford', 'electric': False, 'year': 2020, 'colors': ['red', 'white', 'blue'], 'seater': 5}\n"
     ]
    }
   ],
   "source": [
    "mydict = car.copy()\n",
    "print(mydict)"
   ]
  },
  {
   "cell_type": "code",
   "execution_count": 65,
   "id": "1e1a5bd8",
   "metadata": {},
   "outputs": [
    {
     "name": "stdout",
     "output_type": "stream",
     "text": [
      "{'brand': 'Ford', 'electric': False, 'year': 2020, 'colors': ['red', 'white', 'blue'], 'seater': 5}\n"
     ]
    }
   ],
   "source": [
    "mydict = dict(car)\n",
    "print(mydict)"
   ]
  },
  {
   "cell_type": "markdown",
   "id": "539d9bc1",
   "metadata": {},
   "source": [
    "### Nested Dictionaries"
   ]
  },
  {
   "cell_type": "code",
   "execution_count": 68,
   "id": "5878e0c2",
   "metadata": {},
   "outputs": [],
   "source": [
    "myfamily = {\n",
    "  \"child1\" : {\n",
    "              \"name\" : \"Emil\",\n",
    "               \"year\" : 2004 },\n",
    "  \"child2\" : {\n",
    "              \"name\" : \"Tobias\",\n",
    "             \"year\" : 2007 },\n",
    "  \"child3\" : {\n",
    "               \"name\" : \"Linus\",\n",
    "               \"year\" : 2011 }\n",
    "}"
   ]
  },
  {
   "cell_type": "code",
   "execution_count": 69,
   "id": "a23fd55b",
   "metadata": {},
   "outputs": [
    {
     "name": "stdout",
     "output_type": "stream",
     "text": [
      "{'child1': {'name': 'Emil', 'year': 2004}, 'child2': {'name': 'Tobias', 'year': 2007}, 'child3': {'name': 'Linus', 'year': 2011}}\n"
     ]
    }
   ],
   "source": [
    "print(myfamily)"
   ]
  },
  {
   "cell_type": "code",
   "execution_count": 17,
   "id": "70e273f9",
   "metadata": {},
   "outputs": [
    {
     "name": "stdout",
     "output_type": "stream",
     "text": [
      "{'name': 'Emil', 'year': 2004} {'name': 'Tobias', 'year': 2007} {'name': 'Linus', 'year': 2011}\n"
     ]
    }
   ],
   "source": [
    "child1 = {\n",
    "  \"name\" : \"Emil\",\n",
    "  \"year\" : 2004\n",
    "}\n",
    "child2 = {\n",
    "  \"name\" : \"Tobias\",\n",
    "  \"year\" : 2007\n",
    "}\n",
    "child3 = {\n",
    "  \"name\" : \"Linus\",\n",
    "  \"year\" : 2011\n",
    "}\n",
    "print(child1,child2,child3)"
   ]
  },
  {
   "cell_type": "code",
   "execution_count": 19,
   "id": "9046bfe0",
   "metadata": {
    "scrolled": false
   },
   "outputs": [
    {
     "name": "stdout",
     "output_type": "stream",
     "text": [
      "{'ch1': {'name': 'Emil', 'year': 2004}, 'ch2': {'name': 'Tobias', 'year': 2007}, 'ch3': {'name': 'Linus', 'year': 2011}}\n"
     ]
    }
   ],
   "source": [
    "myfamily = {\n",
    "  \"ch1\" : child1,\n",
    "  \"ch2\" : child2,\n",
    "  \"ch3\" : child3\n",
    "}\n",
    "print(myfamily)"
   ]
  },
  {
   "cell_type": "code",
   "execution_count": null,
   "id": "344bf5c0",
   "metadata": {},
   "outputs": [],
   "source": []
  },
  {
   "cell_type": "code",
   "execution_count": 82,
   "id": "4c60868f",
   "metadata": {
    "scrolled": false
   },
   "outputs": [
    {
     "name": "stdout",
     "output_type": "stream",
     "text": [
      "{'child1': {'name': 'Emil', 'year': 2004, 'location': 'Texas'}, 'child2': {'name': 'Tobias', 'year': 2007}, 'child3': {'name': 'Linus', 'year': 2011}, 'location': 'Texas'}\n"
     ]
    }
   ],
   "source": [
    "myfamily[\"location\"]=\"Texas\"\n",
    "print(myfamily)"
   ]
  },
  {
   "cell_type": "code",
   "execution_count": 20,
   "id": "4b6bc9f0",
   "metadata": {},
   "outputs": [
    {
     "name": "stdout",
     "output_type": "stream",
     "text": [
      "{'ch1': {'name': 'Emil', 'year': 2004}, 'ch2': {'name': 'Tobias', 'year': 2007}, 'ch3': {'name': 'Linus', 'year': 2011}, 'location': 'Texas'}\n"
     ]
    }
   ],
   "source": [
    "x = myfamily.setdefault(\"location\", \"Texas\")\n",
    "print(myfamily)"
   ]
  },
  {
   "cell_type": "code",
   "execution_count": 89,
   "id": "59447723",
   "metadata": {
    "scrolled": true
   },
   "outputs": [
    {
     "name": "stdout",
     "output_type": "stream",
     "text": [
      "{'location': 'Texas'}\n"
     ]
    }
   ],
   "source": [
    "x = ('location',)\n",
    "y = \"Texas\"\n",
    "\n",
    "thisdict = dict.fromkeys(x, y)\n",
    "\n",
    "print(thisdict)"
   ]
  },
  {
   "cell_type": "code",
   "execution_count": null,
   "id": "f6a100ac",
   "metadata": {},
   "outputs": [],
   "source": [
    "a= input()\n",
    "b=input\n",
    "child1[a]=b"
   ]
  }
 ],
 "metadata": {
  "kernelspec": {
   "display_name": "Python 3 (ipykernel)",
   "language": "python",
   "name": "python3"
  },
  "language_info": {
   "codemirror_mode": {
    "name": "ipython",
    "version": 3
   },
   "file_extension": ".py",
   "mimetype": "text/x-python",
   "name": "python",
   "nbconvert_exporter": "python",
   "pygments_lexer": "ipython3",
   "version": "3.10.7"
  }
 },
 "nbformat": 4,
 "nbformat_minor": 5
}

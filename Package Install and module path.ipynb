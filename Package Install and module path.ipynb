{
 "cells": [
  {
   "cell_type": "code",
   "execution_count": 14,
   "id": "6e4436a4",
   "metadata": {},
   "outputs": [
    {
     "name": "stdout",
     "output_type": "stream",
     "text": [
      "Package              Version\n",
      "-------------------- -----------\n",
      "appnope              0.1.3\n",
      "argon2-cffi          21.3.0\n",
      "argon2-cffi-bindings 21.2.0\n",
      "asttokens            2.0.8\n",
      "attrs                22.1.0\n",
      "backcall             0.2.0\n",
      "beautifulsoup4       4.11.1\n",
      "bleach               5.0.1\n",
      "cffi                 1.15.1\n",
      "debugpy              1.6.3\n",
      "decorator            5.1.1\n",
      "defusedxml           0.7.1\n",
      "entrypoints          0.4\n",
      "executing            1.1.0\n",
      "fastjsonschema       2.16.2\n",
      "ipykernel            6.16.0\n",
      "ipython              8.5.0\n",
      "ipython-genutils     0.2.0\n",
      "jedi                 0.18.1\n",
      "Jinja2               3.1.2\n",
      "jsonschema           4.16.0\n",
      "jupyter_client       7.3.5\n",
      "jupyter-core         4.11.1\n",
      "jupyterlab-pygments  0.2.2\n",
      "MarkupSafe           2.1.1\n",
      "matplotlib-inline    0.1.6\n",
      "mistune              2.0.4\n",
      "nbclient             0.6.8\n",
      "nbconvert            7.1.0\n",
      "nbformat             5.6.1\n",
      "nest-asyncio         1.5.6\n",
      "notebook             6.4.12\n",
      "packaging            21.3\n",
      "pandocfilters        1.5.0\n",
      "parso                0.8.3\n",
      "pexpect              4.8.0\n",
      "pickleshare          0.7.5\n",
      "pip                  22.2.2\n",
      "prometheus-client    0.14.1\n",
      "prompt-toolkit       3.0.31\n",
      "psutil               5.9.2\n",
      "ptyprocess           0.7.0\n",
      "pure-eval            0.2.2\n",
      "pycparser            2.21\n",
      "Pygments             2.13.0\n",
      "pyparsing            3.0.9\n",
      "pyrsistent           0.18.1\n",
      "python-dateutil      2.8.2\n",
      "pyzmq                24.0.1\n",
      "Send2Trash           1.8.0\n",
      "setuptools           65.3.0\n",
      "six                  1.16.0\n",
      "soupsieve            2.3.2.post1\n",
      "stack-data           0.5.1\n",
      "terminado            0.16.0\n",
      "tinycss2             1.1.1\n",
      "tornado              6.2\n",
      "traitlets            5.4.0\n",
      "wcwidth              0.2.5\n",
      "webencodings         0.5.1\n",
      "wheel                0.37.1\n",
      "\n",
      "\u001b[1m[\u001b[0m\u001b[34;49mnotice\u001b[0m\u001b[1;39;49m]\u001b[0m\u001b[39;49m A new release of pip available: \u001b[0m\u001b[31;49m22.2.2\u001b[0m\u001b[39;49m -> \u001b[0m\u001b[32;49m22.3\u001b[0m\n",
      "\u001b[1m[\u001b[0m\u001b[34;49mnotice\u001b[0m\u001b[1;39;49m]\u001b[0m\u001b[39;49m To update, run: \u001b[0m\u001b[32;49mpython3.10 -m pip install --upgrade pip\u001b[0m\n",
      "Note: you may need to restart the kernel to use updated packages.\n"
     ]
    }
   ],
   "source": [
    "pip list"
   ]
  },
  {
   "cell_type": "markdown",
   "id": "68c767f5",
   "metadata": {},
   "source": [
    "### Module path"
   ]
  },
  {
   "cell_type": "code",
   "execution_count": 13,
   "id": "85395f8b",
   "metadata": {},
   "outputs": [
    {
     "data": {
      "text/plain": [
       "['/Users/sreeja',\n",
       " '/opt/homebrew/Cellar/python@3.10/3.10.7/Frameworks/Python.framework/Versions/3.10/lib/python310.zip',\n",
       " '/opt/homebrew/Cellar/python@3.10/3.10.7/Frameworks/Python.framework/Versions/3.10/lib/python3.10',\n",
       " '/opt/homebrew/Cellar/python@3.10/3.10.7/Frameworks/Python.framework/Versions/3.10/lib/python3.10/lib-dynload',\n",
       " '',\n",
       " '/opt/homebrew/lib/python3.10/site-packages']"
      ]
     },
     "execution_count": 13,
     "metadata": {},
     "output_type": "execute_result"
    }
   ],
   "source": [
    "import sys\n",
    "sys.path"
   ]
  },
  {
   "cell_type": "code",
   "execution_count": null,
   "id": "7e25cb22",
   "metadata": {
    "scrolled": false
   },
   "outputs": [],
   "source": []
  },
  {
   "cell_type": "code",
   "execution_count": null,
   "id": "11dbcffe",
   "metadata": {},
   "outputs": [],
   "source": []
  },
  {
   "cell_type": "code",
   "execution_count": null,
   "id": "faa57321",
   "metadata": {},
   "outputs": [],
   "source": []
  }
 ],
 "metadata": {
  "kernelspec": {
   "display_name": "Python 3 (ipykernel)",
   "language": "python",
   "name": "python3"
  },
  "language_info": {
   "codemirror_mode": {
    "name": "ipython",
    "version": 3
   },
   "file_extension": ".py",
   "mimetype": "text/x-python",
   "name": "python",
   "nbconvert_exporter": "python",
   "pygments_lexer": "ipython3",
   "version": "3.10.7"
  }
 },
 "nbformat": 4,
 "nbformat_minor": 5
}

{
 "cells": [
  {
   "cell_type": "code",
   "execution_count": 48,
   "id": "8e327852",
   "metadata": {},
   "outputs": [
    {
     "name": "stdout",
     "output_type": "stream",
     "text": [
      "<__main__.employee object at 0x10746b5b0>\n"
     ]
    }
   ],
   "source": [
    "class employee:\n",
    "    def config(self):\n",
    "        print(\"Sreeja,Data Analyst,Cochi\")      \n",
    "        \n",
    "        \n",
    "emp1 = employee()\n",
    "emp2 = employee()\n",
    "\n",
    "#emp1.config()\n",
    "#emp2.config()\n",
    "\n",
    "print(emp1)"
   ]
  },
  {
   "cell_type": "code",
   "execution_count": 3,
   "id": "46b3fcc9",
   "metadata": {
    "scrolled": true
   },
   "outputs": [
    {
     "name": "stdout",
     "output_type": "stream",
     "text": [
      "<class '__main__.employee'>\n"
     ]
    }
   ],
   "source": [
    "print(type(emp1))"
   ]
  },
  {
   "cell_type": "code",
   "execution_count": 53,
   "id": "78e2873b",
   "metadata": {
    "scrolled": true
   },
   "outputs": [
    {
     "name": "stdout",
     "output_type": "stream",
     "text": [
      "<class 'int'>\n"
     ]
    }
   ],
   "source": [
    "a = 4\n",
    "\n",
    "b = a\n",
    "#print(b)\n",
    "print(type(a))"
   ]
  },
  {
   "cell_type": "code",
   "execution_count": 46,
   "id": "ae8d984c",
   "metadata": {
    "scrolled": false
   },
   "outputs": [
    {
     "ename": "TypeError",
     "evalue": "employee.config() missing 1 required positional argument: 'self'",
     "output_type": "error",
     "traceback": [
      "\u001b[0;31m---------------------------------------------------------------------------\u001b[0m",
      "\u001b[0;31mTypeError\u001b[0m                                 Traceback (most recent call last)",
      "Cell \u001b[0;32mIn [46], line 1\u001b[0m\n\u001b[0;32m----> 1\u001b[0m employee\u001b[38;5;241m.\u001b[39mconfig()\n",
      "\u001b[0;31mTypeError\u001b[0m: employee.config() missing 1 required positional argument: 'self'"
     ]
    }
   ],
   "source": [
    "employee.config()"
   ]
  },
  {
   "cell_type": "code",
   "execution_count": 5,
   "id": "6c4bc64c",
   "metadata": {},
   "outputs": [
    {
     "name": "stdout",
     "output_type": "stream",
     "text": [
      "Sreeja,Data Analyst,Cochi\n",
      "Sreeja,Data Analyst,Cochi\n"
     ]
    }
   ],
   "source": [
    "employee.config(emp1)\n",
    "employee.config(emp2)"
   ]
  },
  {
   "cell_type": "code",
   "execution_count": 49,
   "id": "39924049",
   "metadata": {
    "scrolled": false
   },
   "outputs": [
    {
     "name": "stdout",
     "output_type": "stream",
     "text": [
      "Sreeja,Data Analyst,Cochi\n"
     ]
    }
   ],
   "source": [
    "emp1.config()"
   ]
  },
  {
   "cell_type": "code",
   "execution_count": 8,
   "id": "d5860c22",
   "metadata": {
    "scrolled": true
   },
   "outputs": [
    {
     "name": "stdout",
     "output_type": "stream",
     "text": [
      "Sreeja,Data Analyst,Cochi\n"
     ]
    }
   ],
   "source": [
    "emp2.config()"
   ]
  },
  {
   "cell_type": "markdown",
   "id": "42143a0e",
   "metadata": {},
   "source": [
    "### Constuctor"
   ]
  },
  {
   "cell_type": "code",
   "execution_count": 57,
   "id": "bb284bc1",
   "metadata": {},
   "outputs": [
    {
     "name": "stdout",
     "output_type": "stream",
     "text": [
      "Sreeja,Data Analyst,Cochi\n",
      "Sruthy,seo\n"
     ]
    }
   ],
   "source": [
    "class employee:\n",
    "    def __init__(self):\n",
    "        print(\"data\")\n",
    "    def config(self):\n",
    "        print(\"Sreeja,Data Analyst,Cochi\")\n",
    "        \n",
    "    def config2(self):\n",
    "        print(\"Sruthy,seo\")\n",
    "\n",
    "        \n",
    "        \n",
    "emp1 = employee()\n",
    "emp2 = employee()\n",
    "emp3 = employee()\n",
    "            \n",
    "    \n",
    "emp1.config()\n",
    "emp2.config2()"
   ]
  },
  {
   "cell_type": "markdown",
   "id": "23a0f028",
   "metadata": {},
   "source": []
  },
  {
   "cell_type": "code",
   "execution_count": 58,
   "id": "6f35d119",
   "metadata": {},
   "outputs": [
    {
     "name": "stdout",
     "output_type": "stream",
     "text": [
      "Config: Sreeja Data Analyst\n",
      "Config: Sruthy SEO\n"
     ]
    }
   ],
   "source": [
    "class employee:\n",
    "    def __init__(self,name,title):\n",
    "        self.nm = name\n",
    "        self.tl = title\n",
    "\n",
    "    def config(self):\n",
    "        print(\"Config:\",self.nm,self.tl)\n",
    "            \n",
    "        \n",
    "emp1 = employee(\"Sreeja\",\"Data Analyst\")\n",
    "emp2 = employee(\"Sruthy\",\"SEO\")\n",
    "\n",
    "emp1.config()\n",
    "emp2.config()"
   ]
  },
  {
   "cell_type": "code",
   "execution_count": 59,
   "id": "41cac225",
   "metadata": {},
   "outputs": [
    {
     "name": "stdout",
     "output_type": "stream",
     "text": [
      "4366549328\n"
     ]
    }
   ],
   "source": [
    "a= 4\n",
    "print(id(a))"
   ]
  },
  {
   "cell_type": "code",
   "execution_count": 60,
   "id": "b2054d4c",
   "metadata": {},
   "outputs": [
    {
     "name": "stdout",
     "output_type": "stream",
     "text": [
      "4366549328\n"
     ]
    }
   ],
   "source": [
    "b = a\n",
    "print(id(b))"
   ]
  },
  {
   "cell_type": "markdown",
   "id": "6ba436b1",
   "metadata": {},
   "source": [
    "### Memory allocation"
   ]
  },
  {
   "cell_type": "code",
   "execution_count": 61,
   "id": "752e6c1e",
   "metadata": {
    "scrolled": true
   },
   "outputs": [
    {
     "name": "stdout",
     "output_type": "stream",
     "text": [
      "4416869984\n",
      "4416817760\n"
     ]
    }
   ],
   "source": [
    "class employee:\n",
    "    pass\n",
    "\n",
    "        \n",
    "emp1 = employee()\n",
    "emp2 = employee()\n",
    "\n",
    "print(id(emp1))\n",
    "print(id(emp2))\n",
    "\n",
    "#emp1.config()\n",
    "\n",
    "#emp2.config()"
   ]
  },
  {
   "cell_type": "code",
   "execution_count": 62,
   "id": "e6203f3a",
   "metadata": {},
   "outputs": [
    {
     "name": "stdout",
     "output_type": "stream",
     "text": [
      "4416822464\n",
      "4418659824\n"
     ]
    }
   ],
   "source": [
    "class employee:\n",
    "    def config(self):\n",
    "        print(\"Sreeja,Data Analyst,Cochi\")      \n",
    "        \n",
    "        \n",
    "emp1 = employee()\n",
    "emp2 = employee()\n",
    "\n",
    "\n",
    "print(id(emp1))\n",
    "print(id(emp2))"
   ]
  },
  {
   "cell_type": "markdown",
   "id": "f4f8e95a",
   "metadata": {},
   "source": [
    "### Need of self"
   ]
  },
  {
   "cell_type": "code",
   "execution_count": 67,
   "id": "490df9ec",
   "metadata": {},
   "outputs": [
    {
     "name": "stdout",
     "output_type": "stream",
     "text": [
      "Sreeja 25\n",
      "Sreeja 25\n"
     ]
    }
   ],
   "source": [
    "class employee:\n",
    "    def __init__(self):\n",
    "        self.name = \"Sreeja\"\n",
    "        self.age = 25\n",
    "        \n",
    "    def update(self):\n",
    "        self.age = 28\n",
    "\n",
    "emp1 = employee()\n",
    "emp2 = employee()\n",
    "\n",
    "#emp2.name = \"Sruthy\"\n",
    "\n",
    "\n",
    "#emp1.update()\n",
    "print(emp1.name, emp1.age)\n",
    "print(emp2.name, emp2.age)"
   ]
  },
  {
   "cell_type": "code",
   "execution_count": 38,
   "id": "198791a4",
   "metadata": {},
   "outputs": [
    {
     "name": "stdout",
     "output_type": "stream",
     "text": [
      "Sruthy 28\n",
      "Sreeja 25\n"
     ]
    }
   ],
   "source": [
    "class employee:\n",
    "    def __init__(self):\n",
    "        self.name = \"Sreeja\"\n",
    "        self.age = 25\n",
    "    def update(self):\n",
    "        self.age = 28\n",
    "\n",
    "emp1 = employee()\n",
    "emp2 = employee()\n",
    "\n",
    "emp1.name = \"Sruthy\"\n",
    "\n",
    "\n",
    "emp1.update()\n",
    "print(emp1.name, emp1.age)\n",
    "print(emp2.name, emp2.age)"
   ]
  },
  {
   "cell_type": "code",
   "execution_count": 70,
   "id": "feedd9cf",
   "metadata": {},
   "outputs": [],
   "source": [
    "class employee:\n",
    "    def __init__(self):\n",
    "        self.name = \"Sreeja\"\n",
    "        self.age = 25\n",
    "   # def update(self):\n",
    "    #    self.age = 28\n",
    "    \n",
    "emp1 = employee()\n",
    "emp2 = employee()\n",
    "\n",
    "if emp1 == emp2:\n",
    "    print(\"they are same\")\n",
    "\n"
   ]
  },
  {
   "cell_type": "code",
   "execution_count": 28,
   "id": "0f5e0e0f",
   "metadata": {},
   "outputs": [
    {
     "ename": "AttributeError",
     "evalue": "'employee' object has no attribute 'compare'",
     "output_type": "error",
     "traceback": [
      "\u001b[0;31m---------------------------------------------------------------------------\u001b[0m",
      "\u001b[0;31mAttributeError\u001b[0m                            Traceback (most recent call last)",
      "Cell \u001b[0;32mIn [28], line 11\u001b[0m\n\u001b[1;32m      8\u001b[0m emp1 \u001b[38;5;241m=\u001b[39m employee()\n\u001b[1;32m      9\u001b[0m emp2 \u001b[38;5;241m=\u001b[39m employee()\n\u001b[0;32m---> 11\u001b[0m \u001b[38;5;28;01mif\u001b[39;00m emp1\u001b[38;5;241m.\u001b[39mcompare(emp2) :\n\u001b[1;32m     12\u001b[0m     \u001b[38;5;28mprint\u001b[39m(\u001b[38;5;124m\"\u001b[39m\u001b[38;5;124mthey are same\u001b[39m\u001b[38;5;124m\"\u001b[39m)\n",
      "\u001b[0;31mAttributeError\u001b[0m: 'employee' object has no attribute 'compare'"
     ]
    }
   ],
   "source": [
    "class employee:\n",
    "    def __init__(self):\n",
    "        self.name = \"Sreeja\"\n",
    "        self.age = 25\n",
    "    def update(self):\n",
    "        self.age = 28\n",
    "\n",
    "emp1 = employee()\n",
    "emp2 = employee()\n",
    "\n",
    "if emp1.compare(emp2) :\n",
    "    print(\"they are same\")\n",
    "\n"
   ]
  },
  {
   "cell_type": "code",
   "execution_count": 73,
   "id": "046f799c",
   "metadata": {},
   "outputs": [],
   "source": [
    "class employee:\n",
    "    def __init__(self):\n",
    "        self.name = \"Sreeja\"\n",
    "        self.age = 25\n",
    "    def update(self):\n",
    "        self.age = 28\n",
    "    def compare(self,other):\n",
    "        if self.age == other.age:\n",
    "            return True\n",
    "        else:\n",
    "            return False\n",
    "\n",
    "\n",
    "emp1 = employee()\n",
    "emp2 = employee()\n",
    "emp2.update()\n",
    "\n",
    "if emp1.compare(emp2):\n",
    "    print(\"they are same\")"
   ]
  },
  {
   "cell_type": "code",
   "execution_count": 21,
   "id": "fd72013b",
   "metadata": {},
   "outputs": [
    {
     "name": "stdout",
     "output_type": "stream",
     "text": [
      "they are same\n"
     ]
    }
   ],
   "source": [
    "class employee:\n",
    "    def __init__(self, name, age):\n",
    "        self.name = name\n",
    "        self.age = age\n",
    "\n",
    "    def compare(self,emp):\n",
    "        if self.age == emp.age:\n",
    "            return True\n",
    "        else:\n",
    "            return False\n",
    "\n",
    "\n",
    "emp1 = employee(\"Sreeja\",25)\n",
    "#emp1.age = 28\n",
    "emp2 = employee(\"Sruthy\", 21)\n",
    "\n",
    "if emp1.compare(emp2):\n",
    "    print(\"they are same\")\n",
    "else:\n",
    "    print(\"they are different\")"
   ]
  },
  {
   "cell_type": "markdown",
   "id": "f13f7856",
   "metadata": {},
   "source": [
    "### Variable types\n",
    "\n",
    "#### Instance variable : Create a variable inside init\n",
    "#### Class(static) variable : Create a variable outside init and inside a class"
   ]
  },
  {
   "cell_type": "code",
   "execution_count": 23,
   "id": "d7704326",
   "metadata": {},
   "outputs": [
    {
     "ename": "NameError",
     "evalue": "name 'wheels' is not defined",
     "output_type": "error",
     "traceback": [
      "\u001b[0;31m---------------------------------------------------------------------------\u001b[0m",
      "\u001b[0;31mNameError\u001b[0m                                 Traceback (most recent call last)",
      "Cell \u001b[0;32mIn [23], line 11\u001b[0m\n\u001b[1;32m      8\u001b[0m c1 \u001b[38;5;241m=\u001b[39m car()\n\u001b[1;32m      9\u001b[0m c2 \u001b[38;5;241m=\u001b[39m car()\n\u001b[0;32m---> 11\u001b[0m \u001b[38;5;28mprint\u001b[39m(c1\u001b[38;5;241m.\u001b[39mcompany, c1\u001b[38;5;241m.\u001b[39mmile,wheels)\n\u001b[1;32m     12\u001b[0m \u001b[38;5;28mprint\u001b[39m(c2\u001b[38;5;241m.\u001b[39mcompany,c2\u001b[38;5;241m.\u001b[39mmile)\n",
      "\u001b[0;31mNameError\u001b[0m: name 'wheels' is not defined"
     ]
    }
   ],
   "source": [
    "class car:\n",
    "    \n",
    "    wheels = 4\n",
    "    def __init__(self):\n",
    "        self.mile = 10\n",
    "        self.company = \"BMW\"\n",
    "        \n",
    "c1 = car()\n",
    "c2 = car()\n",
    "\n",
    "print(c1.company, c1.mile,wheels)\n",
    "print(c2.company,c2.mile)\n",
    "        "
   ]
  },
  {
   "cell_type": "code",
   "execution_count": 39,
   "id": "a375a7c2",
   "metadata": {},
   "outputs": [
    {
     "name": "stdout",
     "output_type": "stream",
     "text": [
      "BMW 10 4\n",
      "BMW 10 4\n"
     ]
    }
   ],
   "source": [
    "class car:\n",
    "    \n",
    "    wheels = 4\n",
    "    def __init__(self):\n",
    "        self.mile = 10\n",
    "        self.company = \"BMW\"\n",
    "        \n",
    "c1 = car()\n",
    "c2 = car()\n",
    "\n",
    "print(c1.company, c1.mile, c1.wheels)\n",
    "print(c2.company,c2.mile,c2.wheels)\n",
    "        "
   ]
  },
  {
   "cell_type": "code",
   "execution_count": 40,
   "id": "5342c57d",
   "metadata": {},
   "outputs": [
    {
     "name": "stdout",
     "output_type": "stream",
     "text": [
      "BMW 10 4\n",
      "BMW 10 4\n"
     ]
    }
   ],
   "source": [
    "class car:\n",
    "    \n",
    "    wheels = 4\n",
    "    def __init__(self):\n",
    "        self.mile = 10\n",
    "        self.company = \"BMW\"\n",
    "        \n",
    "c1 = car()\n",
    "c2 = car()\n",
    "\n",
    "print(c1.company, c1.mile, car.wheels)\n",
    "print(c2.company,c2.mile,car.wheels)"
   ]
  },
  {
   "cell_type": "markdown",
   "id": "2106c0d0",
   "metadata": {},
   "source": [
    "### Method Types\n",
    "#### Instance method: it works with objects\n",
    "         Accessors methods: If we are only fetching the value using a method\n",
    "         \n",
    "         Mutators methods: If we want to modify the value using a method"
   ]
  },
  {
   "cell_type": "code",
   "execution_count": 1,
   "id": "2afc4709",
   "metadata": {
    "scrolled": true
   },
   "outputs": [
    {
     "name": "stdout",
     "output_type": "stream",
     "text": [
      "34.0\n",
      "37.0\n",
      "12\n"
     ]
    }
   ],
   "source": [
    "class students:\n",
    "    school = \"techmindz\"\n",
    "    def __init__(self,m1,m2,m3):\n",
    "        self.m1 = m1\n",
    "        self.m2 = m2\n",
    "        self.m3 = m3\n",
    "\n",
    "    def avg(self):\n",
    "        return (self.m1+self.m2+self.m3)/3\n",
    "    \n",
    "s1 = students(12,34,56)\n",
    "s2 = students(34,45,32)\n",
    "\n",
    "print(s1.avg())\n",
    "print(s2.avg())\n",
    "\n",
    "print(s1.m1)"
   ]
  },
  {
   "cell_type": "code",
   "execution_count": 20,
   "id": "bfc0424d",
   "metadata": {},
   "outputs": [
    {
     "name": "stdout",
     "output_type": "stream",
     "text": [
      "34.0\n",
      "33.333333333333336\n",
      "(12, 34, 56)\n",
      "(23, 45, 32)\n",
      "33.333333333333336\n"
     ]
    }
   ],
   "source": [
    "class students:\n",
    "    school = \"techmindz\"\n",
    "    def __init__(self,m1,m2,m3):\n",
    "        self.m1 = m1\n",
    "        self.m2 = m2\n",
    "        self.m3 = m3\n",
    "\n",
    "    def avg(self):\n",
    "        return (self.m1+self.m2+self.m3)/3\n",
    "    \n",
    "    def get_mark(self):\n",
    "        return self.m1 , self.m2, self.m3\n",
    "    \n",
    "    def set_mark(self, value):\n",
    "        self.m1 = value \n",
    "    \n",
    "s1 = students(12,34,56)\n",
    "s2 = students(34,45,32)\n",
    "\n",
    "\n",
    "s2.set_mark(50)\n",
    "\n",
    "\n",
    "print(s1.get_mark())\n",
    "print(s2.get_mark())\n",
    "print(s2.avg())\n"
   ]
  },
  {
   "cell_type": "markdown",
   "id": "0f0e93dc",
   "metadata": {},
   "source": [
    "#### Class method"
   ]
  },
  {
   "cell_type": "code",
   "execution_count": 8,
   "id": "21a19f10",
   "metadata": {
    "scrolled": true
   },
   "outputs": [
    {
     "name": "stdout",
     "output_type": "stream",
     "text": [
      "techmindz\n",
      "techmindz\n"
     ]
    }
   ],
   "source": [
    "class students:\n",
    "    school = \"techmindz\"\n",
    "    location = \"kochi\"\n",
    "    \n",
    "    def __init__(self,m1,m2,m3):\n",
    "        self.m1 = m1\n",
    "        self.m2 = m2\n",
    "        self.m3 = m3\n",
    "\n",
    "    def avg(self):\n",
    "        return self.school # (self.m1+self.m2+self.m3)/3\n",
    "    \n",
    "    @classmethod\n",
    "    def get_school_details(cls):\n",
    "        return cls.school\n",
    "    \n",
    "s1 = students(12,34,56)\n",
    "s2 = students(34,45,32)\n",
    "\n",
    "print(s1.avg())\n",
    "print(s2.avg())\n",
    "\n",
    "print(students.get_school_details())\n"
   ]
  },
  {
   "cell_type": "markdown",
   "id": "aa86da14",
   "metadata": {},
   "source": [
    "#### Static method"
   ]
  },
  {
   "cell_type": "code",
   "execution_count": 11,
   "id": "055a3d18",
   "metadata": {},
   "outputs": [
    {
     "name": "stdout",
     "output_type": "stream",
     "text": [
      "Welcome to Techmindz\n",
      "34.0\n",
      "37.0\n"
     ]
    }
   ],
   "source": [
    "class students:\n",
    "    school = \"techmindz\"\n",
    "    location = \"kochi\"\n",
    "    \n",
    "    def __init__(self,m1,m2,m3):\n",
    "        self.m1 = m1\n",
    "        self.m2 = m2\n",
    "        self.m3 = m3\n",
    "\n",
    "    def avg(self):\n",
    "        return (self.m1+self.m2+self.m3)/3\n",
    "    \n",
    "    # @classmethod\n",
    "    #def get_school_details(cls):\n",
    "     #   return cls.school\n",
    "    \n",
    "    @staticmethod\n",
    "    def info():\n",
    "         return \"Welcome to Techmindz\"\n",
    "    \n",
    "\n",
    "    \n",
    "    \n",
    "s1 = students(12,34,56)\n",
    "s2 = students(34,45,32)\n",
    "print(students.info())\n",
    "print(s1.avg())\n",
    "print(s2.avg())\n",
    "\n",
    "#print(students.get_school_details())\n"
   ]
  },
  {
   "cell_type": "markdown",
   "id": "92fd647f",
   "metadata": {},
   "source": [
    "## Inner Class"
   ]
  },
  {
   "cell_type": "code",
   "execution_count": 48,
   "id": "8014aa9a",
   "metadata": {},
   "outputs": [
    {
     "name": "stdout",
     "output_type": "stream",
     "text": [
      "Sreeja 34\n"
     ]
    }
   ],
   "source": [
    "class students:\n",
    "    school = \"techmindz\"\n",
    "    location = \"kochi\"\n",
    "    \n",
    "    def __init__(self,name,rollno):\n",
    "        self.name = name\n",
    "        self.rollno = rollno\n",
    "\n",
    "        \n",
    "        \n",
    "s1 = students(\"Sreeja\",34)\n",
    "s2 = students(\"Sruthy\",32)\n",
    "print(s1.name,s1.rollno)\n"
   ]
  },
  {
   "cell_type": "code",
   "execution_count": 50,
   "id": "1fda45cc",
   "metadata": {},
   "outputs": [
    {
     "name": "stdout",
     "output_type": "stream",
     "text": [
      "Sreeja 34\n"
     ]
    }
   ],
   "source": [
    "class students:\n",
    "    school = \"techmindz\"\n",
    "    location = \"kochi\"\n",
    "    \n",
    "    def __init__(self,name,rollno):\n",
    "        self.name = name\n",
    "        self.rollno = rollno\n",
    "\n",
    "    def show(self):\n",
    "        print(self.name, self.rollno)\n",
    "        \n",
    "        \n",
    "s1 = students(\"Sreeja\",34)\n",
    "s2 = students(\"Sruthy\",32)\n",
    "s1.show()\n"
   ]
  },
  {
   "cell_type": "code",
   "execution_count": 101,
   "id": "2b506ee6",
   "metadata": {
    "scrolled": true
   },
   "outputs": [
    {
     "name": "stdout",
     "output_type": "stream",
     "text": [
      "sreeja 32\n",
      "hp i5\n",
      "sruthy 45\n",
      "hp i5\n"
     ]
    }
   ],
   "source": [
    "class students:\n",
    "    school = \"techmindz\"\n",
    "    location = \"kochi\"\n",
    "    \n",
    "    def __init__(self,name,rollno):\n",
    "        self.name = name\n",
    "        self.rollno = rollno\n",
    "        self.lap = self.laptop()\n",
    "\n",
    "    def show(self):\n",
    "        print(self.name, self.rollno)\n",
    "        self.lap.show()\n",
    "   \n",
    "    class laptop:\n",
    "        def __init__(self):\n",
    "            self.brand = \"hp\"\n",
    "            self.cpu = \"i5\"\n",
    "        def show(self):\n",
    "            print(self.brand, self.cpu)\n",
    "            \n",
    "s1 = students(\"sreeja\",32)\n",
    "s2 = students(\"sruthy\",45)\n",
    "\n",
    "\n",
    "s1.show()\n",
    "s2.show()     \n"
   ]
  },
  {
   "cell_type": "markdown",
   "id": "1a1cac3d",
   "metadata": {},
   "source": [
    "### Inheritance "
   ]
  },
  {
   "cell_type": "code",
   "execution_count": 34,
   "id": "1d856c6a",
   "metadata": {},
   "outputs": [
    {
     "name": "stdout",
     "output_type": "stream",
     "text": [
      "feature1 is working\n",
      "feature2 is working\n",
      "feature3 is working\n",
      "feature4 is working\n"
     ]
    }
   ],
   "source": [
    "class A:\n",
    "    def feature1(self):\n",
    "        print (\"feature1 is working\")\n",
    "    def feature2(self):\n",
    "        print (\"feature2 is working\")\n",
    "\n",
    "        \n",
    "        \n",
    "class B():\n",
    "    def feature3(self):\n",
    "        print (\"feature3 is working\")\n",
    "    def feature4(self):\n",
    "        print (\"feature4 is working\")\n",
    "\n",
    "    \n",
    "        \n",
    "a1 = A()\n",
    "b1 = B()\n",
    "\n",
    "\n",
    "\n",
    "b1.feature1()\n",
    "b1.feature2()\n",
    "        \n",
    "b1.feature3()\n",
    "b1.feature4()"
   ]
  },
  {
   "cell_type": "markdown",
   "id": "eaa747c1",
   "metadata": {},
   "source": [
    "### Multi level Inheritance"
   ]
  },
  {
   "cell_type": "code",
   "execution_count": 42,
   "id": "71ac52f3",
   "metadata": {
    "scrolled": true
   },
   "outputs": [
    {
     "name": "stdout",
     "output_type": "stream",
     "text": [
      "feature1 is working\n",
      "feature3 is working\n",
      "feature5 is working\n"
     ]
    }
   ],
   "source": [
    "class A:\n",
    "    def feature1(self):\n",
    "        print (\"feature1 is working\")\n",
    "    def feature2(self):\n",
    "        print (\"feature2 is working\")\n",
    "\n",
    "        \n",
    "        \n",
    "class B(A):\n",
    "    def feature3(self):\n",
    "        print (\"feature3 is working\")\n",
    "    def feature4(self):\n",
    "        print (\"feature4 is working\")\n",
    "\n",
    "        \n",
    "\n",
    "class C(B):\n",
    "    def feature5(self):\n",
    "        print (\"feature5 is working\")\n",
    "        \n",
    "c1 = C()\n",
    "\n",
    "c1.feature1()\n",
    "c1.feature3()\n",
    "c1.feature5()"
   ]
  },
  {
   "cell_type": "markdown",
   "id": "8cc196c0",
   "metadata": {},
   "source": [
    "### Multiple Inheritance"
   ]
  },
  {
   "cell_type": "code",
   "execution_count": 40,
   "id": "f4a15995",
   "metadata": {},
   "outputs": [
    {
     "name": "stdout",
     "output_type": "stream",
     "text": [
      "feature3 is working\n",
      "feature1 is working\n",
      "feature3 is working\n",
      "feature5 is working\n"
     ]
    }
   ],
   "source": [
    "class A:\n",
    "    def feature1(self):\n",
    "        print (\"feature1 is working\")\n",
    "    def feature2(self):\n",
    "        print (\"feature2 is working\")\n",
    "\n",
    "        \n",
    "        \n",
    "class B:\n",
    "    def feature3(self):\n",
    "        print (\"feature3 is working\")\n",
    "    def feature4(self):\n",
    "        print (\"feature4 is working\")\n",
    "\n",
    "        \n",
    "\n",
    "class C(A,B):\n",
    "    def feature5(self):\n",
    "        print (\"feature5 is working\")\n",
    "        \n",
    "c1 = C()\n",
    "b1 = B()\n",
    "\n",
    "\n",
    "b1.feature3()\n",
    "\n",
    "c1.feature1()\n",
    "c1.feature3()\n",
    "c1.feature5()"
   ]
  },
  {
   "cell_type": "markdown",
   "id": "0497b62b",
   "metadata": {},
   "source": [
    "### Constructors in Inheritance"
   ]
  },
  {
   "cell_type": "code",
   "execution_count": 49,
   "id": "c48c6e41",
   "metadata": {},
   "outputs": [
    {
     "name": "stdout",
     "output_type": "stream",
     "text": [
      "constructors of A\n"
     ]
    }
   ],
   "source": [
    "class A:\n",
    "    def __init__(self):\n",
    "        print(\"constructors of A\")\n",
    "    def feature1(self):\n",
    "        print (\"feature1 is working\")\n",
    "    def feature2(self):\n",
    "        print (\"feature2 is working\")\n",
    "\n",
    "        \n",
    "        \n",
    "class B(A):\n",
    "    def feature3(self):\n",
    "        print (\"feature3 is working\")\n",
    "    def feature4(self):\n",
    "        print (\"feature4 is working\")\n",
    "\n",
    "        \n",
    "\n",
    "\n",
    "b1 = B()"
   ]
  },
  {
   "cell_type": "code",
   "execution_count": 50,
   "id": "3a00051d",
   "metadata": {},
   "outputs": [
    {
     "name": "stdout",
     "output_type": "stream",
     "text": [
      "constructors of B\n"
     ]
    }
   ],
   "source": [
    "class A:\n",
    "    def __init__(self):\n",
    "        print(\"constructors of A\")\n",
    "    def feature1(self):\n",
    "        print (\"feature1 is working\")\n",
    "    def feature2(self):\n",
    "        print (\"feature2 is working\")\n",
    "\n",
    "        \n",
    "        \n",
    "class B(A):\n",
    "    def __init__(self):\n",
    "        print(\"constructors of B\")\n",
    "    def feature3(self):\n",
    "        print (\"feature3 is working\")\n",
    "    def feature4(self):\n",
    "        print (\"feature4 is working\")\n",
    "\n",
    "b1 = B()    \n"
   ]
  },
  {
   "cell_type": "code",
   "execution_count": 52,
   "id": "b471ceee",
   "metadata": {},
   "outputs": [
    {
     "name": "stdout",
     "output_type": "stream",
     "text": [
      "constructors of B\n",
      "constructors of A\n"
     ]
    }
   ],
   "source": [
    "class A:\n",
    "    def __init__(self):\n",
    "        print(\"constructors of A\")\n",
    "    def feature1(self):\n",
    "        print (\"feature1 is working\")\n",
    "    def feature2(self):\n",
    "        print (\"feature2 is working\")\n",
    "\n",
    "        \n",
    "        \n",
    "class B(A):\n",
    "    def __init__(self):\n",
    "        print(\"constructors of B\")\n",
    "        super().__init__()\n",
    "    def feature3(self):\n",
    "        print (\"feature3 is working\")\n",
    "    def feature4(self):\n",
    "        print (\"feature4 is working\")\n",
    "\n",
    "b1 = B()    \n"
   ]
  },
  {
   "cell_type": "markdown",
   "id": "2c7be896",
   "metadata": {},
   "source": [
    "### Method Resolution Order (MRO)"
   ]
  },
  {
   "cell_type": "code",
   "execution_count": 56,
   "id": "e3e819ad",
   "metadata": {},
   "outputs": [
    {
     "name": "stdout",
     "output_type": "stream",
     "text": [
      "constructors of C\n",
      "constructors of A\n",
      "feature1-A is working\n"
     ]
    }
   ],
   "source": [
    "class A:\n",
    "    def __init__(self):\n",
    "        print(\"constructors of A\")\n",
    "    def feature1(self):\n",
    "        print (\"feature1-A is working\")\n",
    "    def feature2(self):\n",
    "        print (\"feature2 is working\")\n",
    "\n",
    "        \n",
    "        \n",
    "class B:\n",
    "    def __init__(self):\n",
    "        print(\"constructors of B\")\n",
    "    def feature1(self):\n",
    "        print (\"feature1-B is working\")\n",
    "    def feature4(self):\n",
    "        print (\"feature4 is working\")\n",
    "\n",
    "\n",
    "class C(A,B):\n",
    "    def __init__(self):\n",
    "        print(\"constructors of C\")\n",
    "        super().__init__()\n",
    "        \n",
    "        \n",
    "c1 = C()\n",
    "\n",
    "c1.feature1()"
   ]
  },
  {
   "cell_type": "markdown",
   "id": "ed3f1ab0",
   "metadata": {},
   "source": [
    "### Polymorphism\n",
    "\n",
    "          Duck Typing\n",
    "          Operator Overloading\n",
    "          Method Overloading \n",
    "          Method Overriding"
   ]
  },
  {
   "cell_type": "markdown",
   "id": "abd0ca10",
   "metadata": {},
   "source": [
    "#### Duck Typing"
   ]
  },
  {
   "cell_type": "code",
   "execution_count": 59,
   "id": "65db9c4d",
   "metadata": {
    "scrolled": true
   },
   "outputs": [],
   "source": [
    "class laptop:\n",
    "    def code(self,ide):\n",
    "        ide.execute()\n",
    "        \n",
    "    "
   ]
  },
  {
   "cell_type": "code",
   "execution_count": 67,
   "id": "c9d6221f",
   "metadata": {},
   "outputs": [
    {
     "name": "stdout",
     "output_type": "stream",
     "text": [
      "Compiling\n",
      "Running\n"
     ]
    }
   ],
   "source": [
    "class pandas:\n",
    "    def execute(self):\n",
    "        print(\"Compiling\")\n",
    "        print(\"Running\")\n",
    "\n",
    "class laptop:\n",
    "    def code(self,ide):\n",
    "        ide.execute()\n",
    "ide = pandas()\n",
    "\n",
    "lap1 = laptop()\n",
    "lap1.code(ide)"
   ]
  },
  {
   "cell_type": "code",
   "execution_count": 68,
   "id": "e84c23e0",
   "metadata": {
    "scrolled": true
   },
   "outputs": [
    {
     "name": "stdout",
     "output_type": "stream",
     "text": [
      "Spell checks\n",
      "convention checks\n",
      "Compiling\n",
      "Running\n"
     ]
    }
   ],
   "source": [
    "class pycharm:\n",
    "    def execute(self):\n",
    "        print(\"Compiling\")\n",
    "        print(\"Running\")\n",
    "\n",
    "        \n",
    "class myeditor:\n",
    "    def execute(self):\n",
    "        print(\"Spell checks\")\n",
    "        print(\"convention checks\")        \n",
    "        print(\"Compiling\")\n",
    "        print(\"Running\")\n",
    "        \n",
    "class laptop:\n",
    "    def code(self,ide):\n",
    "        ide.execute()\n",
    "ide = myeditor()\n",
    "\n",
    "lap1 = laptop()\n",
    "lap1.code(ide)"
   ]
  },
  {
   "cell_type": "markdown",
   "id": "ad200a7c",
   "metadata": {},
   "source": [
    "####           Operator Overloading\n"
   ]
  },
  {
   "cell_type": "code",
   "execution_count": 72,
   "id": "8a662946",
   "metadata": {
    "scrolled": true
   },
   "outputs": [
    {
     "ename": "TypeError",
     "evalue": "unsupported operand type(s) for +: 'students' and 'students'",
     "output_type": "error",
     "traceback": [
      "\u001b[0;31m---------------------------------------------------------------------------\u001b[0m",
      "\u001b[0;31mTypeError\u001b[0m                                 Traceback (most recent call last)",
      "Cell \u001b[0;32mIn [72], line 10\u001b[0m\n\u001b[1;32m      6\u001b[0m s1 \u001b[38;5;241m=\u001b[39m students(\u001b[38;5;241m65\u001b[39m,\u001b[38;5;241m78\u001b[39m)\n\u001b[1;32m      8\u001b[0m s2 \u001b[38;5;241m=\u001b[39m students(\u001b[38;5;241m45\u001b[39m,\u001b[38;5;241m96\u001b[39m)\n\u001b[0;32m---> 10\u001b[0m s3 \u001b[38;5;241m=\u001b[39ms1\u001b[38;5;241m+\u001b[39ms2\n",
      "\u001b[0;31mTypeError\u001b[0m: unsupported operand type(s) for +: 'students' and 'students'"
     ]
    }
   ],
   "source": [
    "class students:\n",
    "    def __init__(self,m1,m2):\n",
    "        self.m1 = m1\n",
    "        self.m2 = m2\n",
    "        \n",
    "s1 = students(65,78)\n",
    "\n",
    "s2 = students(45,96)\n",
    "\n",
    "s3 =s1+s2"
   ]
  },
  {
   "cell_type": "code",
   "execution_count": 76,
   "id": "f7f88410",
   "metadata": {},
   "outputs": [
    {
     "ename": "NameError",
     "evalue": "name 'm1' is not defined",
     "output_type": "error",
     "traceback": [
      "\u001b[0;31m---------------------------------------------------------------------------\u001b[0m",
      "\u001b[0;31mNameError\u001b[0m                                 Traceback (most recent call last)",
      "Cell \u001b[0;32mIn [76], line 17\u001b[0m\n\u001b[1;32m     13\u001b[0m s1 \u001b[38;5;241m=\u001b[39m students(\u001b[38;5;241m65\u001b[39m,\u001b[38;5;241m78\u001b[39m)\n\u001b[1;32m     15\u001b[0m s2 \u001b[38;5;241m=\u001b[39m students(\u001b[38;5;241m45\u001b[39m,\u001b[38;5;241m96\u001b[39m)\n\u001b[0;32m---> 17\u001b[0m s3 \u001b[38;5;241m=\u001b[39ms1\u001b[38;5;241m+\u001b[39ms2\n\u001b[1;32m     19\u001b[0m \u001b[38;5;28mprint\u001b[39m(s3)\n",
      "Cell \u001b[0;32mIn [76], line 9\u001b[0m, in \u001b[0;36mstudents.__add__\u001b[0;34m(self, other)\u001b[0m\n\u001b[1;32m      5\u001b[0m \u001b[38;5;28;01mdef\u001b[39;00m \u001b[38;5;21m__add__\u001b[39m(\u001b[38;5;28mself\u001b[39m,other):\n\u001b[1;32m      6\u001b[0m     \u001b[38;5;66;03m#m1 = self.m1+other.m1\u001b[39;00m\n\u001b[1;32m      7\u001b[0m     \u001b[38;5;66;03m#m2 = self.m2+other.m2\u001b[39;00m\n\u001b[0;32m----> 9\u001b[0m     s3 \u001b[38;5;241m=\u001b[39m \u001b[43mm1\u001b[49m\u001b[38;5;241m+\u001b[39mm2\n\u001b[1;32m     11\u001b[0m     \u001b[38;5;28;01mreturn\u001b[39;00m s3\n",
      "\u001b[0;31mNameError\u001b[0m: name 'm1' is not defined"
     ]
    }
   ],
   "source": [
    "class students:\n",
    "    def __init__(self,m1,m2):\n",
    "        self.m1 = m1\n",
    "        self.m2 = m2\n",
    "    def __add__(self,other):\n",
    "        m1 = self.m1+other.m1\n",
    "        m2 = self.m2+other.m2\n",
    "        \n",
    "        s3 = m1+m2\n",
    "        \n",
    "        return s3\n",
    "        \n",
    "s1 = students(65,78)\n",
    "\n",
    "s2 = students(45,96)\n",
    "\n",
    "s3 =s1+s2\n",
    "\n",
    "print(s3)"
   ]
  },
  {
   "cell_type": "markdown",
   "id": "45d3559d",
   "metadata": {},
   "source": [
    "#### Method Overloading \n"
   ]
  },
  {
   "cell_type": "code",
   "execution_count": 89,
   "id": "fdeed725",
   "metadata": {
    "scrolled": true
   },
   "outputs": [
    {
     "name": "stdout",
     "output_type": "stream",
     "text": [
      "20\n"
     ]
    }
   ],
   "source": [
    "class students:\n",
    "    \n",
    "    def sum (self,a=None,b=None,c=None):\n",
    "        s = a + b + c\n",
    "        return s\n",
    "        \n",
    "s1 = students()\n",
    "\n",
    "print(s1.sum(5,6,9))"
   ]
  },
  {
   "cell_type": "code",
   "execution_count": 92,
   "id": "c931e8cd",
   "metadata": {},
   "outputs": [
    {
     "name": "stdout",
     "output_type": "stream",
     "text": [
      "11\n"
     ]
    }
   ],
   "source": [
    "class students:\n",
    "    \n",
    "    def sum (self,a=None,b=None,c=None):\n",
    "        if a!=None and b!=None and c!=None:\n",
    "            s = a + b + c\n",
    "        elif a!=None and b!=None:\n",
    "            s = a + b\n",
    "        else:\n",
    "            s= a\n",
    "        return s\n",
    "        \n",
    "s1 = students()\n",
    "\n",
    "print(s1.sum(5,6))"
   ]
  },
  {
   "cell_type": "markdown",
   "id": "59063be7",
   "metadata": {},
   "source": [
    " ####         Method Overriding"
   ]
  },
  {
   "cell_type": "code",
   "execution_count": 93,
   "id": "0a6bf232",
   "metadata": {},
   "outputs": [
    {
     "name": "stdout",
     "output_type": "stream",
     "text": [
      "Contents in A\n"
     ]
    }
   ],
   "source": [
    "class A:\n",
    "    def show(self):\n",
    "        print(\"Contents in A\")\n",
    "        \n",
    "        \n",
    "\n",
    "s1 = A()\n",
    "s1.show()"
   ]
  },
  {
   "cell_type": "code",
   "execution_count": 94,
   "id": "552faf80",
   "metadata": {},
   "outputs": [
    {
     "ename": "AttributeError",
     "evalue": "'B' object has no attribute 'show'",
     "output_type": "error",
     "traceback": [
      "\u001b[0;31m---------------------------------------------------------------------------\u001b[0m",
      "\u001b[0;31mAttributeError\u001b[0m                            Traceback (most recent call last)",
      "Cell \u001b[0;32mIn [94], line 9\u001b[0m\n\u001b[1;32m      6\u001b[0m     \u001b[38;5;28;01mpass\u001b[39;00m\n\u001b[1;32m      8\u001b[0m s1 \u001b[38;5;241m=\u001b[39m B()\n\u001b[0;32m----> 9\u001b[0m s1\u001b[38;5;241m.\u001b[39mshow()\n",
      "\u001b[0;31mAttributeError\u001b[0m: 'B' object has no attribute 'show'"
     ]
    }
   ],
   "source": [
    "class A:\n",
    "    def show(self):\n",
    "        print(\"Contents in A\")\n",
    "\n",
    "class B:\n",
    "    pass\n",
    "\n",
    "s1 = B()\n",
    "s1.show()"
   ]
  },
  {
   "cell_type": "code",
   "execution_count": 95,
   "id": "37a019d1",
   "metadata": {},
   "outputs": [
    {
     "name": "stdout",
     "output_type": "stream",
     "text": [
      "Contents in B\n"
     ]
    }
   ],
   "source": [
    "class A:\n",
    "    def show(self):\n",
    "        print(\"Contents in A\")\n",
    "\n",
    "class B(A):\n",
    "    def show(self):\n",
    "        print(\"Contents in B\")\n",
    "    \n",
    "\n",
    "s1 = B()\n",
    "s1.show()"
   ]
  },
  {
   "cell_type": "code",
   "execution_count": 96,
   "id": "67e5ca70",
   "metadata": {},
   "outputs": [],
   "source": [
    "### Abstract "
   ]
  },
  {
   "cell_type": "code",
   "execution_count": null,
   "id": "9e635962",
   "metadata": {},
   "outputs": [],
   "source": [
    "class computer:\n",
    "    def process(self):\n",
    "        print(\"Running\")\n",
    "        "
   ]
  }
 ],
 "metadata": {
  "kernelspec": {
   "display_name": "Python 3 (ipykernel)",
   "language": "python",
   "name": "python3"
  },
  "language_info": {
   "codemirror_mode": {
    "name": "ipython",
    "version": 3
   },
   "file_extension": ".py",
   "mimetype": "text/x-python",
   "name": "python",
   "nbconvert_exporter": "python",
   "pygments_lexer": "ipython3",
   "version": "3.10.7"
  }
 },
 "nbformat": 4,
 "nbformat_minor": 5
}

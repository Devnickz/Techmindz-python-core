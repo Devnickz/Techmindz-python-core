{
 "cells": [
  {
   "cell_type": "markdown",
   "id": "1e7dc28a",
   "metadata": {},
   "source": [
    "# Conditional Statements"
   ]
  },
  {
   "cell_type": "markdown",
   "id": "2cf5909c",
   "metadata": {},
   "source": [
    "## If Statements"
   ]
  },
  {
   "cell_type": "code",
   "execution_count": 5,
   "id": "a753038d",
   "metadata": {
    "scrolled": false
   },
   "outputs": [
    {
     "name": "stdout",
     "output_type": "stream",
     "text": [
      "10 is a positive number.\n"
     ]
    }
   ],
   "source": [
    "num = 10\n",
    "if num > 5:\n",
    "    print(num, \"is a positive number.\")"
   ]
  },
  {
   "cell_type": "code",
   "execution_count": 8,
   "id": "4864b3df",
   "metadata": {},
   "outputs": [
    {
     "name": "stdout",
     "output_type": "stream",
     "text": [
      "5 is a positive number.\n",
      "This statement is true.\n"
     ]
    }
   ],
   "source": [
    "num = 5\n",
    "if num > 2:\n",
    "    print(num, \"is a positive number.\")\n",
    "    print(\"This statement is true.\")"
   ]
  },
  {
   "cell_type": "code",
   "execution_count": 11,
   "id": "688e809b",
   "metadata": {
    "scrolled": true
   },
   "outputs": [
    {
     "name": "stdout",
     "output_type": "stream",
     "text": [
      "-2 is a negative number\n"
     ]
    }
   ],
   "source": [
    "num = -2\n",
    "if num > 0:\n",
    "    print(num, \"is a positive number.\")\n",
    "    print(\"This statement is true.\")\n",
    "print (num, \"is a negative number\")"
   ]
  },
  {
   "cell_type": "markdown",
   "id": "927dc7e0",
   "metadata": {},
   "source": [
    "## If else Statements"
   ]
  },
  {
   "cell_type": "code",
   "execution_count": 13,
   "id": "c9ef3e8b",
   "metadata": {},
   "outputs": [
    {
     "name": "stdout",
     "output_type": "stream",
     "text": [
      "-4 is a negative number\n"
     ]
    }
   ],
   "source": [
    "num = -4\n",
    "if num > 0:\n",
    "    print(num, \"is a positive number.\")\n",
    "    print(\"This statement is true.\")\n",
    "else:\n",
    "    print (num, \"is a negative number\")"
   ]
  },
  {
   "cell_type": "markdown",
   "id": "807e6cca",
   "metadata": {},
   "source": [
    "## elif Statements"
   ]
  },
  {
   "cell_type": "code",
   "execution_count": 16,
   "id": "831008c2",
   "metadata": {},
   "outputs": [
    {
     "name": "stdout",
     "output_type": "stream",
     "text": [
      "-5 is a negative number\n"
     ]
    }
   ],
   "source": [
    "num = -5\n",
    "if num > 0:\n",
    "    print(num,\"is a positive number\")\n",
    "elif num == 0:\n",
    "    print(\"Number is Zero\")\n",
    "else:\n",
    "    print(num,\"is a negative number\")"
   ]
  },
  {
   "cell_type": "markdown",
   "id": "6c107f7a",
   "metadata": {},
   "source": [
    "## Nested if Statement\n",
    "### A Nested IF statement is one in which an If statement is nestled inside another If statement. This is used when a variable must be processed more than once."
   ]
  },
  {
   "cell_type": "code",
   "execution_count": 18,
   "id": "8d5e5a86",
   "metadata": {},
   "outputs": [
    {
     "name": "stdout",
     "output_type": "stream",
     "text": [
      "Negative number\n"
     ]
    }
   ],
   "source": [
    "num = -7\n",
    "if num >= 0:\n",
    "    if num == 0:\n",
    "        print(\"zero\")\n",
    "    else:\n",
    "        print(\"Positive number\")\n",
    "else:\n",
    "    print(\"Negative number\")"
   ]
  },
  {
   "cell_type": "markdown",
   "id": "1a02b60f",
   "metadata": {},
   "source": [
    "### Q1, Write a program to check the person is an adult and compare if he or she graduated and gotten a drivers license. Show the result for different combinations\n",
    "\n",
    "### Adult - You're 18 or older. Welcome to adulthood! OR  You're just < Age >,not allowed to drive.\n",
    "### Graduated - Congratulations with your graduation! OR Sorry You're not graduated.\n",
    "### License - Happy driving!  OR Be patient! Try to get your license ASAP\n",
    "### \n"
   ]
  },
  {
   "cell_type": "code",
   "execution_count": 19,
   "id": "87f3aab5",
   "metadata": {},
   "outputs": [
    {
     "name": "stdout",
     "output_type": "stream",
     "text": [
      "You're just 16 ,not allowed to drive.\n"
     ]
    }
   ],
   "source": [
    "age = 16\n",
    "isGraduated = False\n",
    "hasLicense = False\n",
    "\n",
    "# Look if person is 18 years or older\n",
    "if age >= 18:\n",
    "    print(\"You're 18 or older. Welcome to adulthood!\")\n",
    "\n",
    "    if isGraduated:\n",
    "        print(\"Congratulations with your graduation!\")\n",
    "    else:\n",
    "        print(\"Sorry You're not graduated.\")\n",
    "    if hasLicense:\n",
    "        print('Happy driving!')\n",
    "    else:\n",
    "        print('Be patient! Try to get your license ASAP')\n",
    "        \n",
    "else:\n",
    "    print (\"You're just\",age,\",not allowed to drive.\")"
   ]
  },
  {
   "cell_type": "markdown",
   "id": "5f9cc45c",
   "metadata": {},
   "source": [
    "### Trial Error Question "
   ]
  },
  {
   "cell_type": "code",
   "execution_count": null,
   "id": "5e18fcd1",
   "metadata": {},
   "outputs": [],
   "source": [
    "question = \"What's the capital of India? \"\n",
    "attempts = 0\n",
    "\n",
    "while True:\n",
    "    attempts = attempts + 1\n",
    "    response = input(\"Attempt #\" + str(attempts) + \" | \" + question)\n",
    "\n",
    "    if response.lower() == \"Delhi\":\n",
    "        print(\"Correct! Thanks for playing\")\n",
    "        break\n",
    "    else:\n",
    "        print(\"Incorrect.\")\n",
    "        if attempts == 1:\n",
    "            print(\"Hint: It is a Union Territory and located in the northern part of India \")\n",
    "        if attempts == 2:\n",
    "            print(\"Hint: Historical Monuments like Red Fort, Qutab Minar etc are located here.\")\n",
    "        if attempts == 3:\n",
    "            print(\"Hint: the city name starts with a 'D'.\")\n",
    "else:\n",
    "    print(\"Correct! Thanks for playing\")\n",
    " "
   ]
  },
  {
   "cell_type": "markdown",
   "id": "c91611dc",
   "metadata": {},
   "source": [
    "## Short-Hand If statement\n",
    "\n",
    "#### Short Hand if statement is used when only one statement needs to be executed inside the if block. This statement can be mentioned in the same line which holds the If statement.\n",
    "\n"
   ]
  },
  {
   "cell_type": "code",
   "execution_count": 3,
   "id": "9d170cbb",
   "metadata": {},
   "outputs": [
    {
     "name": "stdout",
     "output_type": "stream",
     "text": [
      "5 is a positive number.\n"
     ]
    }
   ],
   "source": [
    "num = 5\n",
    "if num > 0:print(num, \"is a positive number.\")"
   ]
  },
  {
   "cell_type": "markdown",
   "id": "1bb4afd1",
   "metadata": {},
   "source": [
    "## Short-Hand if-else statement"
   ]
  },
  {
   "cell_type": "code",
   "execution_count": 6,
   "id": "996fff6d",
   "metadata": {},
   "outputs": [
    {
     "name": "stdout",
     "output_type": "stream",
     "text": [
      "5 is a positive number.\n"
     ]
    }
   ],
   "source": [
    "num = 5\n",
    "if num > 0:print(num, \"is a positive number.\") ; \n",
    "else: print (num, \"is a negative number\")"
   ]
  },
  {
   "cell_type": "code",
   "execution_count": null,
   "id": "7b0a0f9d",
   "metadata": {},
   "outputs": [],
   "source": []
  },
  {
   "cell_type": "code",
   "execution_count": null,
   "id": "de26562e",
   "metadata": {},
   "outputs": [],
   "source": []
  }
 ],
 "metadata": {
  "kernelspec": {
   "display_name": "Python 3 (ipykernel)",
   "language": "python",
   "name": "python3"
  },
  "language_info": {
   "codemirror_mode": {
    "name": "ipython",
    "version": 3
   },
   "file_extension": ".py",
   "mimetype": "text/x-python",
   "name": "python",
   "nbconvert_exporter": "python",
   "pygments_lexer": "ipython3",
   "version": "3.10.7"
  }
 },
 "nbformat": 4,
 "nbformat_minor": 5
}

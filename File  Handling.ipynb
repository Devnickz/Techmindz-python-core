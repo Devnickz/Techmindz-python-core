{
 "cells": [
  {
   "cell_type": "code",
   "execution_count": 8,
   "id": "ef78b7d1",
   "metadata": {},
   "outputs": [],
   "source": [
    "f = open(\"test.py\")"
   ]
  },
  {
   "cell_type": "code",
   "execution_count": 9,
   "id": "264cc762",
   "metadata": {
    "scrolled": false
   },
   "outputs": [
    {
     "name": "stdout",
     "output_type": "stream",
     "text": [
      "<_io.TextIOWrapper name='test.py' mode='r' encoding='UTF-8'>\n"
     ]
    }
   ],
   "source": [
    "print(f)"
   ]
  },
  {
   "cell_type": "code",
   "execution_count": 9,
   "id": "4a968f3e",
   "metadata": {
    "scrolled": false
   },
   "outputs": [
    {
     "name": "stdout",
     "output_type": "stream",
     "text": [
      "import sys\n",
      "print (len(sys.argv))\n",
      "\n",
      "\n"
     ]
    }
   ],
   "source": [
    "f = open(\"/Users/sreeja/Desktop/test.py\",\"r\")\n",
    "print(f.read())"
   ]
  },
  {
   "cell_type": "code",
   "execution_count": 31,
   "id": "dd247fc1",
   "metadata": {
    "scrolled": true
   },
   "outputs": [
    {
     "name": "stdout",
     "output_type": "stream",
     "text": [
      "Free and Open Source\n",
      "High-level programming language\n",
      "Object-oriented Scripting\n",
      "General-purpose Interpreted\n",
      "GUI Programming Support\n",
      "Extensible feature\n",
      "Portable and Interpreted \n",
      "Large Standard Library \n",
      "Dynamically Typed and Memory Allocating language\n",
      "Easy to Code, Read and Debug\n",
      "\n"
     ]
    }
   ],
   "source": [
    "f = open(\"demo.txt\",\"r\")\n",
    "print(f.read())"
   ]
  },
  {
   "cell_type": "code",
   "execution_count": 32,
   "id": "82e97d07",
   "metadata": {},
   "outputs": [
    {
     "name": "stdout",
     "output_type": "stream",
     "text": [
      "Free and Open Source\n",
      "\n"
     ]
    }
   ],
   "source": [
    "f = open(\"demo.txt\", \"r\")\n",
    "print(f.readline())\n"
   ]
  },
  {
   "cell_type": "code",
   "execution_count": 33,
   "id": "33bab3dc",
   "metadata": {
    "scrolled": false
   },
   "outputs": [
    {
     "name": "stdout",
     "output_type": "stream",
     "text": [
      "Free and Open Source\n",
      "\n",
      "High-level programming language\n",
      "\n",
      "Object-oriented Scripting\n",
      "\n",
      "General-purpose Interpreted\n",
      "\n",
      "GUI Programming Support\n",
      "\n",
      "Extensible feature\n",
      "\n",
      "Portable and Interpreted \n",
      "\n",
      "Large Standard Library \n",
      "\n",
      "Dynamically Typed and Memory Allocating language\n",
      "\n",
      "Easy to Code, Read and Debug\n",
      "\n"
     ]
    }
   ],
   "source": [
    "f = open(\"demo.txt\", \"r\")\n",
    "for x in f:\n",
    "  print(x)"
   ]
  },
  {
   "cell_type": "code",
   "execution_count": 2,
   "id": "9d880eef",
   "metadata": {},
   "outputs": [],
   "source": [
    "f = open(\"demo.txt\", \"w\")\n",
    "f.write(\"John\")\n",
    "f.close()"
   ]
  },
  {
   "cell_type": "code",
   "execution_count": 3,
   "id": "0b057c07",
   "metadata": {},
   "outputs": [
    {
     "name": "stdout",
     "output_type": "stream",
     "text": [
      "John\n"
     ]
    }
   ],
   "source": [
    "f = open(\"demo.txt\", \"r\")\n",
    "print(f.read())"
   ]
  },
  {
   "cell_type": "code",
   "execution_count": 6,
   "id": "fb098dc9",
   "metadata": {},
   "outputs": [
    {
     "name": "stdout",
     "output_type": "stream",
     "text": [
      "John\n"
     ]
    }
   ],
   "source": [
    "f = open(\"names.csv\",\"w\")\n",
    "f.write(\"John\")\n",
    "f = open(\"names.csv\",\"r\")\n",
    "print(f.read())\n"
   ]
  },
  {
   "cell_type": "markdown",
   "id": "a5f45a7b",
   "metadata": {},
   "source": [
    "### Write a program to check if a file exist"
   ]
  },
  {
   "cell_type": "code",
   "execution_count": null,
   "id": "7416551a",
   "metadata": {},
   "outputs": [],
   "source": []
  },
  {
   "cell_type": "code",
   "execution_count": null,
   "id": "003b9ff1",
   "metadata": {},
   "outputs": [],
   "source": []
  }
 ],
 "metadata": {
  "kernelspec": {
   "display_name": "Python 3 (ipykernel)",
   "language": "python",
   "name": "python3"
  },
  "language_info": {
   "codemirror_mode": {
    "name": "ipython",
    "version": 3
   },
   "file_extension": ".py",
   "mimetype": "text/x-python",
   "name": "python",
   "nbconvert_exporter": "python",
   "pygments_lexer": "ipython3",
   "version": "3.10.7"
  }
 },
 "nbformat": 4,
 "nbformat_minor": 5
}
